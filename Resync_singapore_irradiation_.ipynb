{
  "nbformat": 4,
  "nbformat_minor": 0,
  "metadata": {
    "accelerator": "GPU",
    "colab": {
      "name": "Resync.ipynb",
      "provenance": [],
      "collapsed_sections": []
    },
    "kernelspec": {
      "display_name": "Python 3",
      "name": "python3"
    },
    "language_info": {
      "name": "python"
    }
  },
  "cells": [
    {
      "cell_type": "code",
      "metadata": {
        "colab": {
          "base_uri": "https://localhost:8080/"
        },
        "id": "wnhyOAfGPPwX",
        "outputId": "1dc2d2fe-de40-4972-80e9-6d0d8fd4cef9"
      },
      "source": [
        "from google.colab import drive\n",
        "drive.mount('/content/drive')"
      ],
      "execution_count": null,
      "outputs": [
        {
          "output_type": "stream",
          "text": [
            "Drive already mounted at /content/drive; to attempt to forcibly remount, call drive.mount(\"/content/drive\", force_remount=True).\n"
          ],
          "name": "stdout"
        }
      ]
    },
    {
      "cell_type": "code",
      "metadata": {
        "colab": {
          "base_uri": "https://localhost:8080/"
        },
        "id": "lSVtSsdVZwdo",
        "outputId": "a5639ceb-7a4f-49ed-ad06-b10518e03f6b"
      },
      "source": [
        "import tensorflow as tf\n",
        "print(tf.__version__)\n",
        "\n",
        "\n",
        "#data visulalization\n",
        "import matplotlib.pyplot as plt\n",
        "\n",
        "#data preprocessing\n",
        "import pandas as pd\n",
        "\n",
        "#math operations\n",
        "import numpy as np\n",
        "\n",
        "#Mean absolute error\n",
        "from sklearn.metrics import mean_absolute_error\n",
        "\n",
        "import matplotlib.image  as mpimg\n",
        "\n",
        "from pysolar.solar import *\n",
        "\n",
        "import os"
      ],
      "execution_count": null,
      "outputs": [
        {
          "output_type": "stream",
          "text": [
            "2.5.0\n"
          ],
          "name": "stdout"
        }
      ]
    },
    {
      "cell_type": "code",
      "metadata": {
        "id": "Y02Dafi5aPwf"
      },
      "source": [
        "#Importing data\n",
        "os.chdir( \"/content/drive/My Drive/Resync\")\n",
        "\n",
        "# Root directory of the project\n",
        "ROOT_DIR = os.getcwd()"
      ],
      "execution_count": null,
      "outputs": []
    },
    {
      "cell_type": "markdown",
      "metadata": {
        "id": "7gcUIZw3R_UN"
      },
      "source": [
        "**Data preparation**"
      ]
    },
    {
      "cell_type": "code",
      "metadata": {
        "colab": {
          "base_uri": "https://localhost:8080/",
          "height": 289
        },
        "id": "eExt84vZaTQ3",
        "outputId": "6bd1b508-72c6-44d6-dc12-ad9510b3e5b7"
      },
      "source": [
        "df = pd.read_csv(\"singapore_irradiation.csv\")\n",
        "print(df.dtypes)\n",
        "df.head()"
      ],
      "execution_count": null,
      "outputs": [
        {
          "output_type": "stream",
          "text": [
            "PeriodEnd      object\n",
            "PeriodStart    object\n",
            "Period         object\n",
            "Ghi             int64\n",
            "dtype: object\n"
          ],
          "name": "stdout"
        },
        {
          "output_type": "execute_result",
          "data": {
            "text/html": [
              "<div>\n",
              "<style scoped>\n",
              "    .dataframe tbody tr th:only-of-type {\n",
              "        vertical-align: middle;\n",
              "    }\n",
              "\n",
              "    .dataframe tbody tr th {\n",
              "        vertical-align: top;\n",
              "    }\n",
              "\n",
              "    .dataframe thead th {\n",
              "        text-align: right;\n",
              "    }\n",
              "</style>\n",
              "<table border=\"1\" class=\"dataframe\">\n",
              "  <thead>\n",
              "    <tr style=\"text-align: right;\">\n",
              "      <th></th>\n",
              "      <th>PeriodEnd</th>\n",
              "      <th>PeriodStart</th>\n",
              "      <th>Period</th>\n",
              "      <th>Ghi</th>\n",
              "    </tr>\n",
              "  </thead>\n",
              "  <tbody>\n",
              "    <tr>\n",
              "      <th>0</th>\n",
              "      <td>2007-01-01T01:00:00Z</td>\n",
              "      <td>2007-01-01T00:45:00Z</td>\n",
              "      <td>PT15M</td>\n",
              "      <td>174</td>\n",
              "    </tr>\n",
              "    <tr>\n",
              "      <th>1</th>\n",
              "      <td>2007-01-01T01:15:00Z</td>\n",
              "      <td>2007-01-01T01:00:00Z</td>\n",
              "      <td>PT15M</td>\n",
              "      <td>214</td>\n",
              "    </tr>\n",
              "    <tr>\n",
              "      <th>2</th>\n",
              "      <td>2007-01-01T01:30:00Z</td>\n",
              "      <td>2007-01-01T01:15:00Z</td>\n",
              "      <td>PT15M</td>\n",
              "      <td>254</td>\n",
              "    </tr>\n",
              "    <tr>\n",
              "      <th>3</th>\n",
              "      <td>2007-01-01T01:45:00Z</td>\n",
              "      <td>2007-01-01T01:30:00Z</td>\n",
              "      <td>PT15M</td>\n",
              "      <td>294</td>\n",
              "    </tr>\n",
              "    <tr>\n",
              "      <th>4</th>\n",
              "      <td>2007-01-01T02:00:00Z</td>\n",
              "      <td>2007-01-01T01:45:00Z</td>\n",
              "      <td>PT15M</td>\n",
              "      <td>339</td>\n",
              "    </tr>\n",
              "  </tbody>\n",
              "</table>\n",
              "</div>"
            ],
            "text/plain": [
              "              PeriodEnd           PeriodStart Period  Ghi\n",
              "0  2007-01-01T01:00:00Z  2007-01-01T00:45:00Z  PT15M  174\n",
              "1  2007-01-01T01:15:00Z  2007-01-01T01:00:00Z  PT15M  214\n",
              "2  2007-01-01T01:30:00Z  2007-01-01T01:15:00Z  PT15M  254\n",
              "3  2007-01-01T01:45:00Z  2007-01-01T01:30:00Z  PT15M  294\n",
              "4  2007-01-01T02:00:00Z  2007-01-01T01:45:00Z  PT15M  339"
            ]
          },
          "metadata": {
            "tags": []
          },
          "execution_count": 4
        }
      ]
    },
    {
      "cell_type": "code",
      "metadata": {
        "colab": {
          "base_uri": "https://localhost:8080/"
        },
        "id": "8m2SvB7lauQm",
        "outputId": "17fc25df-3005-4785-b957-f6da60bc5298"
      },
      "source": [
        "df['Period'].unique()"
      ],
      "execution_count": null,
      "outputs": [
        {
          "output_type": "execute_result",
          "data": {
            "text/plain": [
              "array(['PT15M'], dtype=object)"
            ]
          },
          "metadata": {
            "tags": []
          },
          "execution_count": 5
        }
      ]
    },
    {
      "cell_type": "code",
      "metadata": {
        "colab": {
          "base_uri": "https://localhost:8080/"
        },
        "id": "RhUhUaugcM5-",
        "outputId": "2a37e472-dd2e-4a35-e827-ae628566eded"
      },
      "source": [
        "#Converting object datatype to datetime for PeriodStart \n",
        "#Dropping Period, PeriodEnd columns as time identifier is asssumed to be PeriodStart\n",
        "df.drop(axis=0,columns=['Period', \"PeriodEnd\"],inplace=True, errors='raise')\n",
        "df['PeriodStart']= pd.to_datetime(df[\"PeriodStart\"])\n",
        "df.dtypes"
      ],
      "execution_count": null,
      "outputs": [
        {
          "output_type": "execute_result",
          "data": {
            "text/plain": [
              "PeriodStart    datetime64[ns, UTC]\n",
              "Ghi                          int64\n",
              "dtype: object"
            ]
          },
          "metadata": {
            "tags": []
          },
          "execution_count": 6
        }
      ]
    },
    {
      "cell_type": "markdown",
      "metadata": {
        "id": "Xi3Ddlx4RwZD"
      },
      "source": [
        "**Data visualization**"
      ]
    },
    {
      "cell_type": "code",
      "metadata": {
        "id": "Cf0O-2wlgysO"
      },
      "source": [
        "df_fe=df.copy(deep=True)"
      ],
      "execution_count": null,
      "outputs": []
    },
    {
      "cell_type": "code",
      "metadata": {
        "colab": {
          "base_uri": "https://localhost:8080/",
          "height": 204
        },
        "id": "4BBdBIhHgyo-",
        "outputId": "ab6d6ba4-f6b5-4b75-8b2f-5a9325383c8e"
      },
      "source": [
        "df_fe['month_Start'] = [i.strftime(\"%b\") for i in df_fe['PeriodStart']]\n",
        "df_fe['year_Start'] = [i.year for i in df_fe['PeriodStart']]\n",
        "df_fe['day_time_month_Start'] = [i.strftime(\"%d-%b-%H:%M\") for i in df_fe['PeriodStart']]\n",
        "df_fe['day_of_year_Start'] = [i.dayofyear for i in df_fe['PeriodStart']]\n",
        "df_fe['time_of_day_Start'] = [i.strftime(\"%H:%M:%S\") for i in df_fe['PeriodStart']]\n",
        "\n",
        "df_fe.head()"
      ],
      "execution_count": null,
      "outputs": [
        {
          "output_type": "execute_result",
          "data": {
            "text/html": [
              "<div>\n",
              "<style scoped>\n",
              "    .dataframe tbody tr th:only-of-type {\n",
              "        vertical-align: middle;\n",
              "    }\n",
              "\n",
              "    .dataframe tbody tr th {\n",
              "        vertical-align: top;\n",
              "    }\n",
              "\n",
              "    .dataframe thead th {\n",
              "        text-align: right;\n",
              "    }\n",
              "</style>\n",
              "<table border=\"1\" class=\"dataframe\">\n",
              "  <thead>\n",
              "    <tr style=\"text-align: right;\">\n",
              "      <th></th>\n",
              "      <th>PeriodStart</th>\n",
              "      <th>Ghi</th>\n",
              "      <th>month_Start</th>\n",
              "      <th>year_Start</th>\n",
              "      <th>day_time_month_Start</th>\n",
              "      <th>day_of_year_Start</th>\n",
              "      <th>time_of_day_Start</th>\n",
              "    </tr>\n",
              "  </thead>\n",
              "  <tbody>\n",
              "    <tr>\n",
              "      <th>0</th>\n",
              "      <td>2007-01-01 00:45:00+00:00</td>\n",
              "      <td>174</td>\n",
              "      <td>Jan</td>\n",
              "      <td>2007</td>\n",
              "      <td>01-Jan-00:45</td>\n",
              "      <td>1</td>\n",
              "      <td>00:45:00</td>\n",
              "    </tr>\n",
              "    <tr>\n",
              "      <th>1</th>\n",
              "      <td>2007-01-01 01:00:00+00:00</td>\n",
              "      <td>214</td>\n",
              "      <td>Jan</td>\n",
              "      <td>2007</td>\n",
              "      <td>01-Jan-01:00</td>\n",
              "      <td>1</td>\n",
              "      <td>01:00:00</td>\n",
              "    </tr>\n",
              "    <tr>\n",
              "      <th>2</th>\n",
              "      <td>2007-01-01 01:15:00+00:00</td>\n",
              "      <td>254</td>\n",
              "      <td>Jan</td>\n",
              "      <td>2007</td>\n",
              "      <td>01-Jan-01:15</td>\n",
              "      <td>1</td>\n",
              "      <td>01:15:00</td>\n",
              "    </tr>\n",
              "    <tr>\n",
              "      <th>3</th>\n",
              "      <td>2007-01-01 01:30:00+00:00</td>\n",
              "      <td>294</td>\n",
              "      <td>Jan</td>\n",
              "      <td>2007</td>\n",
              "      <td>01-Jan-01:30</td>\n",
              "      <td>1</td>\n",
              "      <td>01:30:00</td>\n",
              "    </tr>\n",
              "    <tr>\n",
              "      <th>4</th>\n",
              "      <td>2007-01-01 01:45:00+00:00</td>\n",
              "      <td>339</td>\n",
              "      <td>Jan</td>\n",
              "      <td>2007</td>\n",
              "      <td>01-Jan-01:45</td>\n",
              "      <td>1</td>\n",
              "      <td>01:45:00</td>\n",
              "    </tr>\n",
              "  </tbody>\n",
              "</table>\n",
              "</div>"
            ],
            "text/plain": [
              "                PeriodStart  Ghi  ... day_of_year_Start  time_of_day_Start\n",
              "0 2007-01-01 00:45:00+00:00  174  ...                 1           00:45:00\n",
              "1 2007-01-01 01:00:00+00:00  214  ...                 1           01:00:00\n",
              "2 2007-01-01 01:15:00+00:00  254  ...                 1           01:15:00\n",
              "3 2007-01-01 01:30:00+00:00  294  ...                 1           01:30:00\n",
              "4 2007-01-01 01:45:00+00:00  339  ...                 1           01:45:00\n",
              "\n",
              "[5 rows x 7 columns]"
            ]
          },
          "metadata": {
            "tags": []
          },
          "execution_count": 8
        }
      ]
    },
    {
      "cell_type": "code",
      "metadata": {
        "colab": {
          "base_uri": "https://localhost:8080/",
          "height": 404
        },
        "id": "ZO4k6EJpgyXG",
        "outputId": "36ceaa22-6a8a-42c3-c768-a2bdc91f7464"
      },
      "source": [
        "latitude = 1.36442\n",
        "longitude = 103.991531\n",
        "fig, ax = plt.subplots(nrows=1, ncols=2, figsize=(15,5))\n",
        "for i in df_fe['year_Start'].unique():\n",
        "    df_1 = df_fe[df_fe['year_Start']==i]\n",
        "    df_1 = df_1[df_1['day_of_year_Start']==1]\n",
        "    df_1 = df_1[df_1['month_Start']=='Jan']\n",
        "    df_1['simulated'] = df_1['PeriodStart'].apply(lambda x : radiation.get_radiation_direct(x, get_altitude(latitude, longitude, x)))\n",
        "    ax[0].plot_date(df_1['day_time_month_Start'], df_1['Ghi'])\n",
        "    ax[1].plot_date(df_1['day_time_month_Start'], df_1['simulated'])\n",
        "ax[0].set_xticks(['01-Jan-00:45', '01-Jan-04:45', '01-Jan-08:45', '01-Jan-12:45', '01-Jan-16:45', '01-Jan-20:45'], minor=False)\n",
        "ax[0].set_ylabel('GHI')\n",
        "ax[0].set_xlabel('time (Date-hours: mins)')\n",
        "ax[0].legend(df_fe['year_Start'].unique())\n",
        "ax[0].set_title(\"Yearly change in Irradiation\")\n",
        "\n",
        "ax[1].set_xticks(['01-Jan-00:45', '01-Jan-04:45', '01-Jan-08:45', '01-Jan-12:45', '01-Jan-16:45', '01-Jan-20:45'], minor=False)\n",
        "ax[1].set_ylabel('GHI')\n",
        "ax[1].set_xlabel('time (Date-hours: mins)')\n",
        "ax[1].legend(df_fe['year_Start'].unique())\n",
        "ax[1].set_title(\"Simulated yearly change in simulated Irradiation\")\n",
        "plt.setp(ax[1].xaxis.get_majorticklabels(), rotation=90)\n",
        "plt.setp(ax[0].xaxis.get_majorticklabels(), rotation=90)\n",
        "plt.show()"
      ],
      "execution_count": null,
      "outputs": [
        {
          "output_type": "display_data",
          "data": {
            "image/png": "[encoded data removed]",
            "text/plain": [
              "<Figure size 1080x360 with 2 Axes>"
            ]
          },
          "metadata": {
            "tags": [],
            "needs_background": "light"
          }
        }
      ]
    },
    {
      "cell_type": "code",
      "metadata": {
        "colab": {
          "base_uri": "https://localhost:8080/",
          "height": 729
        },
        "id": "Pz5VaR6Ekbjv",
        "outputId": "5560dadc-8fb5-4358-f697-dd1f8df56612"
      },
      "source": [
        "from datetime import time\n",
        "fig, ax = plt.subplots( nrows=2, ncols=1, figsize=(15,10))\n",
        "df_1 = df_fe[df_fe['year_Start']==2017]\n",
        "df_1 = df_1.iloc[range(24,len(df_1),96)]\n",
        "ax[0].plot_date(df_1['day_time_month_Start'], df_1['Ghi'])\n",
        "ax[0].set_xticks(['01-Jan-06:00', '01-Feb-06:00', '01-Mar-06:00', '01-Apr-06:00', '01-May-06:00', '01-Jun-06:00', '01-Jul-06:00', '01-Aug-06:00', '01-Sep-06:00', '01-Oct-06:00', '01-Nov-06:00', '01-Dec-06:00'], minor=False)\n",
        "ax[0].set_ylabel('GHI')\n",
        "ax[0].set_xlabel('Month')\n",
        "ax[0].set_title(\"Daily change in Irradiation in 2017\")\n",
        "plt.setp(ax[0].xaxis.get_majorticklabels(), rotation=90)\n",
        "\n",
        "df_1 = df_1[df_1['month_Start']=='Jan']\n",
        "ax[1].plot_date(df_1['day_time_month_Start'], df_1['Ghi'])\n",
        "ax[1].set_xticks(['01-Jan-06:00', '11-Jan-06:00', '21-Jan-06:00', '31-Jan-06:00'], minor=False)\n",
        "ax[1].set_ylabel('GHI')\n",
        "ax[1].set_xlabel('Month')\n",
        "ax[1].set_title(\"Change in Irradiation in Jan 2017\")\n",
        "plt.setp(ax[1].xaxis.get_majorticklabels(), rotation=90)\n",
        "plt.tight_layout()\n",
        "plt.show()"
      ],
      "execution_count": null,
      "outputs": [
        {
          "output_type": "display_data",
          "data": {
            "image/png": "[encoded data removed]",
            "text/plain": [
              "<Figure size 1080x720 with 2 Axes>"
            ]
          },
          "metadata": {
            "tags": [],
            "needs_background": "light"
          }
        }
      ]
    },
    {
      "cell_type": "markdown",
      "metadata": {
        "id": "fxjyJ5UAUNDi"
      },
      "source": [
        "# ***Modelling for 2 Hour Ahead prediction with 15 minutes resolution*** "
      ]
    },
    {
      "cell_type": "code",
      "metadata": {
        "id": "KzXOe2hUf9ie"
      },
      "source": [
        "window_size = 127\n",
        "batch_size = 32\n",
        "shuffle_buffer_size = 5000"
      ],
      "execution_count": null,
      "outputs": []
    },
    {
      "cell_type": "code",
      "metadata": {
        "id": "LwiZG3KEc7cu"
      },
      "source": [
        "l = len(df)\n",
        "split_time = int(90*l/100)\n",
        "df_train=df[:split_time]\n",
        "df_test=df[split_time:split_time+8]\n",
        "\n",
        "time_train = [i.strftime(\"%H:%M:%S\") for i in df_train['PeriodStart']]\n",
        "x_train = df_train['Ghi']\n",
        "time_test = [i.strftime(\"%H:%M:%S\") for i in df_test['PeriodStart']]\n",
        "x_test = df_test['Ghi']\n",
        "df_123= df['Ghi'][:split_time+8]"
      ],
      "execution_count": null,
      "outputs": []
    },
    {
      "cell_type": "code",
      "metadata": {
        "id": "cQRlkolheuMe"
      },
      "source": [
        "def windowed_dataset(series, window_size, batch_size, shuffle_buffer):\n",
        "    dataset = tf.data.Dataset.from_tensor_slices(series)\n",
        "    dataset = dataset.window(window_size + 8, shift=8, drop_remainder=True)\n",
        "    dataset = dataset.flat_map(lambda window: window.batch(window_size + 8))\n",
        "    dataset = dataset.shuffle(shuffle_buffer).map(lambda window: (window[:-8], window[-8:]))\n",
        "    dataset = dataset.batch(batch_size).prefetch(1)\n",
        "    return dataset"
      ],
      "execution_count": null,
      "outputs": []
    },
    {
      "cell_type": "code",
      "metadata": {
        "id": "nel3d-DOfnVu"
      },
      "source": [
        "def windowed_dataset_cnn(series, window_size, batch_size, shuffle_buffer):\n",
        "    series = tf.expand_dims(series, axis=-1)\n",
        "    ds = tf.data.Dataset.from_tensor_slices(series)\n",
        "    ds = ds.window(window_size + 8, shift=8, drop_remainder=True)\n",
        "    ds = ds.flat_map(lambda w: w.batch(window_size + 8))\n",
        "    ds = ds.map(lambda w: (w[:-8], w[8:]))\n",
        "    return ds.batch(batch_size).prefetch(1)"
      ],
      "execution_count": null,
      "outputs": []
    },
    {
      "cell_type": "code",
      "metadata": {
        "id": "3wXVXybgex1d"
      },
      "source": [
        "def model_forecast(model, series, window_size, batch_size):\n",
        "  ds = tf.data.Dataset.from_tensor_slices(series)\n",
        "  ds = ds.window(window_size, shift=1, drop_remainder=True)\n",
        "  ds = ds.flat_map(lambda w: w.batch(window_size))\n",
        "  ds = ds.batch(batch_size).prefetch(1)\n",
        "  forecast = model.predict(ds)\n",
        "  return forecast"
      ],
      "execution_count": null,
      "outputs": []
    },
    {
      "cell_type": "code",
      "metadata": {
        "id": "Sipbc0lOexuV"
      },
      "source": [
        "def plot_series(time, series, forcast, format=\"-\", start=0, end=None):\n",
        "  fig, ax = plt.subplots(figsize=(15,5))\n",
        "  ax.set_ylabel('GHI')\n",
        "  ax.set_xlabel('time')\n",
        "  plt.setp(ax.xaxis.get_majorticklabels(), rotation=90)\n",
        "  plt.plot(time[start:end], forcast[start:end], format)\n",
        "  plt.plot(time[start:end], series[start:end], format)\n",
        "  plt.legend(['Forcast', 'Experimental Data'])\n",
        "  plt.grid(True)"
      ],
      "execution_count": null,
      "outputs": []
    },
    {
      "cell_type": "code",
      "metadata": {
        "id": "Uyv4KxqrhGEq"
      },
      "source": [
        "def plot_history(history): \n",
        "  mae=history.history['mae']\n",
        "  loss=history.history['loss']\n",
        "\n",
        "  epochs=range(len(loss)) # Get number of epochs\n",
        "\n",
        "  plt.plot(epochs, mae, 'r')\n",
        "  plt.plot(epochs, loss, 'b')\n",
        "  plt.title('MAE and Loss')\n",
        "  plt.xlabel(\"Epochs\")\n",
        "  plt.ylabel(\"Accuracy\")\n",
        "  plt.legend([\"MAE\", \"Loss\"])\n",
        "\n",
        "  plt.figure()"
      ],
      "execution_count": null,
      "outputs": []
    },
    {
      "cell_type": "markdown",
      "metadata": {
        "id": "PYXPCfuEU2fU"
      },
      "source": [
        "**Regression model**"
      ]
    },
    {
      "cell_type": "code",
      "metadata": {
        "id": "7ciP5qtjfbFu"
      },
      "source": [
        "model_ann = tf.keras.models.Sequential([\n",
        "    tf.keras.layers.Dense(20, input_shape=[window_size]), \n",
        "    tf.keras.layers.Dense(8)\n",
        "])"
      ],
      "execution_count": null,
      "outputs": []
    },
    {
      "cell_type": "code",
      "metadata": {
        "id": "hWK4nr-iLeNY"
      },
      "source": [
        "dataset = windowed_dataset(x_train.to_numpy(), window_size, batch_size, shuffle_buffer_size)"
      ],
      "execution_count": null,
      "outputs": []
    },
    {
      "cell_type": "code",
      "metadata": {
        "colab": {
          "base_uri": "https://localhost:8080/"
        },
        "id": "mMDPVFnSLLeY",
        "outputId": "55f14f3f-efa9-4a10-b0cf-f2c39f172f83"
      },
      "source": [
        "model_ann.compile(loss=tf.keras.losses.Huber(), optimizer=tf.keras.optimizers.SGD(lr=1e-7, momentum=0.9), metrics=[\"mae\"])\n",
        "history_ann = model_ann.fit(dataset,epochs=300,verbose=0)"
      ],
      "execution_count": null,
      "outputs": [
        {
          "output_type": "stream",
          "text": [
            "/usr/local/lib/python3.7/dist-packages/tensorflow/python/keras/optimizer_v2/optimizer_v2.py:375: UserWarning: The `lr` argument is deprecated, use `learning_rate` instead.\n",
            "  \"The `lr` argument is deprecated, use `learning_rate` instead.\")\n"
          ],
          "name": "stderr"
        }
      ]
    },
    {
      "cell_type": "code",
      "metadata": {
        "id": "Ggwc6VjELaoJ"
      },
      "source": [
        "# Save weights\n",
        "model_path = os.path.join(ROOT_DIR, \"Irradiance.h5\")\n",
        "model_ann.save_weights(model_path)\n",
        "model_ann.save('my_model.h5')\n",
        "\n",
        "#load weights\n",
        "# model_ann = tf.keras.models.load_model('my_model.h5')\n",
        "# print(\"Loading weights from \", model_path)\n",
        "# model_ann.load_weights(model_path, by_name=True)"
      ],
      "execution_count": null,
      "outputs": []
    },
    {
      "cell_type": "code",
      "metadata": {
        "id": "hORT1aTKLuYX",
        "colab": {
          "base_uri": "https://localhost:8080/",
          "height": 405
        },
        "outputId": "60df1374-28a9-404d-9473-f282fe30732c"
      },
      "source": [
        "ann_forecast = model_forecast(model_ann, df_123.to_numpy(), window_size, batch_size)\n",
        "ann_forecast = ann_forecast[split_time - window_size:-1, -1]\n",
        "\n",
        "ann_residuals = ann_forecast - x_test\n",
        "ann_rmse = np.sqrt(np.sum(np.power(ann_residuals,2)) / len(ann_residuals))\n",
        "print('RMSE = %.2f' % ann_rmse)\n",
        "\n",
        "plt.figure(figsize=(10, 6))\n",
        "plot_series(time_test, x_test, ann_forecast)"
      ],
      "execution_count": null,
      "outputs": [
        {
          "output_type": "stream",
          "text": [
            "RMSE = 359.71\n"
          ],
          "name": "stdout"
        },
        {
          "output_type": "display_data",
          "data": {
            "text/plain": [
              "<Figure size 720x432 with 0 Axes>"
            ]
          },
          "metadata": {
            "tags": []
          }
        },
        {
          "output_type": "display_data",
          "data": {
            "image/png": "[encoded data removed]",
            "text/plain": [
              "<Figure size 1080x360 with 1 Axes>"
            ]
          },
          "metadata": {
            "tags": [],
            "needs_background": "light"
          }
        }
      ]
    },
    {
      "cell_type": "code",
      "metadata": {
        "colab": {
          "base_uri": "https://localhost:8080/",
          "height": 312
        },
        "id": "SOPo_a8JA4ne",
        "outputId": "54a4b91b-bd86-4974-b0ea-d11bfc4529fe"
      },
      "source": [
        "plot_history(history_ann)"
      ],
      "execution_count": null,
      "outputs": [
        {
          "output_type": "display_data",
          "data": {
            "image/png": "[encoded data removed]",
            "text/plain": [
              "<Figure size 432x288 with 1 Axes>"
            ]
          },
          "metadata": {
            "tags": [],
            "needs_background": "light"
          }
        },
        {
          "output_type": "display_data",
          "data": {
            "text/plain": [
              "<Figure size 432x288 with 0 Axes>"
            ]
          },
          "metadata": {
            "tags": []
          }
        }
      ]
    },
    {
      "cell_type": "markdown",
      "metadata": {
        "id": "Qh52bBH_VNr-"
      },
      "source": [
        "**Time Series Forecasting Model**"
      ]
    },
    {
      "cell_type": "code",
      "metadata": {
        "id": "eT6Jwy5gMb5X"
      },
      "source": [
        "tf.keras.backend.clear_session()\n",
        "tf.random.set_seed(51)\n",
        "np.random.seed(51)\n",
        "\n",
        "dataset = windowed_dataset_cnn(x_train, window_size, batch_size, shuffle_buffer_size)\n",
        "\n",
        "model_cnn = tf.keras.models.Sequential([\n",
        "  tf.keras.layers.Conv1D(filters=32, kernel_size=3,\n",
        "                      strides=1, padding=\"causal\",\n",
        "                      activation=\"relu\",\n",
        "                      input_shape=[None, 1]),\n",
        "  tf.keras.layers.LSTM(32, return_sequences=True),\n",
        "  tf.keras.layers.LSTM(32, return_sequences=True),\n",
        "  tf.keras.layers.Dense(8),\n",
        "  tf.keras.layers.Lambda(lambda x: x * 300)\n",
        "])"
      ],
      "execution_count": null,
      "outputs": []
    },
    {
      "cell_type": "code",
      "metadata": {
        "colab": {
          "base_uri": "https://localhost:8080/"
        },
        "id": "1GjhQLNdMrMJ",
        "outputId": "e750fd96-1bfd-49fe-cc97-2c4adff33177"
      },
      "source": [
        "optimizer = tf.keras.optimizers.SGD(lr=1e-5, momentum=0.9)\n",
        "model_cnn.compile(loss=tf.keras.losses.Huber(),\n",
        "                  optimizer=optimizer,\n",
        "                  metrics=[\"mae\"])\n",
        "history_cnn = model_cnn.fit(dataset,epochs=300)"
      ],
      "execution_count": null,
      "outputs": [
        {
          "output_type": "stream",
          "text": [
            "/usr/local/lib/python3.7/dist-packages/tensorflow/python/keras/optimizer_v2/optimizer_v2.py:375: UserWarning: The `lr` argument is deprecated, use `learning_rate` instead.\n",
            "  \"The `lr` argument is deprecated, use `learning_rate` instead.\")\n"
          ],
          "name": "stderr"
        },
        {
          "output_type": "stream",
          "text": [
            "Epoch 1/300\n",
            "1674/1674 [==============================] - 27s 14ms/step - loss: 86.6642 - mae: 87.1549\n",
            "Epoch 2/300\n",
            "1674/1674 [==============================] - 24s 14ms/step - loss: 68.1818 - mae: 68.6693\n",
            "Epoch 3/300\n",
            "1674/1674 [==============================] - 24s 14ms/step - loss: 65.4147 - mae: 65.9006\n",
            "Epoch 4/300\n",
            "1674/1674 [==============================] - 24s 14ms/step - loss: 63.5251 - mae: 64.0098\n",
            "Epoch 5/300\n",
            "1674/1674 [==============================] - 23s 14ms/step - loss: 60.5008 - mae: 60.9836\n",
            "Epoch 6/300\n",
            "1674/1674 [==============================] - 24s 14ms/step - loss: 58.6016 - mae: 59.0807\n",
            "Epoch 7/300\n",
            "1674/1674 [==============================] - 24s 14ms/step - loss: 57.2945 - mae: 57.7694\n",
            "Epoch 8/300\n",
            "1674/1674 [==============================] - 24s 14ms/step - loss: 56.2938 - mae: 56.7649\n",
            "Epoch 9/300\n",
            "1674/1674 [==============================] - 24s 14ms/step - loss: 56.1034 - mae: 56.5723\n",
            "Epoch 10/300\n",
            "1674/1674 [==============================] - 24s 14ms/step - loss: 55.8177 - mae: 56.2847\n",
            "Epoch 11/300\n",
            "1674/1674 [==============================] - 24s 14ms/step - loss: 55.1143 - mae: 55.5787\n",
            "Epoch 12/300\n",
            "1674/1674 [==============================] - 24s 14ms/step - loss: 54.9532 - mae: 55.4154\n",
            "Epoch 13/300\n",
            "1674/1674 [==============================] - 24s 14ms/step - loss: 54.4258 - mae: 54.8864\n",
            "Epoch 14/300\n",
            "1674/1674 [==============================] - 24s 14ms/step - loss: 54.6586 - mae: 55.1181\n",
            "Epoch 15/300\n",
            "1674/1674 [==============================] - 24s 14ms/step - loss: 54.4385 - mae: 54.8973\n",
            "Epoch 16/300\n",
            "1674/1674 [==============================] - 24s 14ms/step - loss: 54.3027 - mae: 54.7588\n",
            "Epoch 17/300\n",
            "1674/1674 [==============================] - 24s 14ms/step - loss: 54.1921 - mae: 54.6478\n",
            "Epoch 18/300\n",
            "1674/1674 [==============================] - 24s 14ms/step - loss: 53.7048 - mae: 54.1592\n",
            "Epoch 19/300\n",
            "1674/1674 [==============================] - 24s 14ms/step - loss: 53.7707 - mae: 54.2234\n",
            "Epoch 20/300\n",
            "1674/1674 [==============================] - 24s 14ms/step - loss: 53.4403 - mae: 53.8905\n",
            "Epoch 21/300\n",
            "1674/1674 [==============================] - 24s 14ms/step - loss: 53.5213 - mae: 53.9694\n",
            "Epoch 22/300\n",
            "1674/1674 [==============================] - 24s 14ms/step - loss: 53.1359 - mae: 53.5814\n",
            "Epoch 23/300\n",
            "1674/1674 [==============================] - 24s 14ms/step - loss: 53.2121 - mae: 53.6570\n",
            "Epoch 24/300\n",
            "1674/1674 [==============================] - 24s 14ms/step - loss: 53.0221 - mae: 53.4659\n",
            "Epoch 25/300\n",
            "1674/1674 [==============================] - 24s 14ms/step - loss: 52.8985 - mae: 53.3403\n",
            "Epoch 26/300\n",
            "1674/1674 [==============================] - 24s 14ms/step - loss: 52.9570 - mae: 53.3989\n",
            "Epoch 27/300\n",
            "1674/1674 [==============================] - 24s 14ms/step - loss: 52.5810 - mae: 53.0203\n",
            "Epoch 28/300\n",
            "1674/1674 [==============================] - 24s 14ms/step - loss: 52.4753 - mae: 52.9147\n",
            "Epoch 29/300\n",
            "1674/1674 [==============================] - 24s 14ms/step - loss: 52.6886 - mae: 53.1258\n",
            "Epoch 30/300\n",
            "1674/1674 [==============================] - 24s 14ms/step - loss: 52.4434 - mae: 52.8797\n",
            "Epoch 31/300\n",
            "1674/1674 [==============================] - 24s 14ms/step - loss: 52.4054 - mae: 52.8414\n",
            "Epoch 32/300\n",
            "1674/1674 [==============================] - 24s 14ms/step - loss: 52.6274 - mae: 53.0633\n",
            "Epoch 33/300\n",
            "1674/1674 [==============================] - 24s 14ms/step - loss: 52.0176 - mae: 52.4507\n",
            "Epoch 34/300\n",
            "1674/1674 [==============================] - 24s 14ms/step - loss: 52.0769 - mae: 52.5112\n",
            "Epoch 35/300\n",
            "1674/1674 [==============================] - 24s 14ms/step - loss: 52.0541 - mae: 52.4865\n",
            "Epoch 36/300\n",
            "1674/1674 [==============================] - 24s 14ms/step - loss: 52.0858 - mae: 52.5174\n",
            "Epoch 37/300\n",
            "1674/1674 [==============================] - 24s 14ms/step - loss: 52.0444 - mae: 52.4748\n",
            "Epoch 38/300\n",
            "1674/1674 [==============================] - 24s 14ms/step - loss: 52.3747 - mae: 52.8057\n",
            "Epoch 39/300\n",
            "1674/1674 [==============================] - 24s 14ms/step - loss: 52.1698 - mae: 52.5993\n",
            "Epoch 40/300\n",
            "1674/1674 [==============================] - 24s 14ms/step - loss: 52.0878 - mae: 52.5164\n",
            "Epoch 41/300\n",
            "1674/1674 [==============================] - 24s 14ms/step - loss: 51.8873 - mae: 52.3159\n",
            "Epoch 42/300\n",
            "1674/1674 [==============================] - 24s 14ms/step - loss: 51.8815 - mae: 52.3115\n",
            "Epoch 43/300\n",
            "1674/1674 [==============================] - 24s 14ms/step - loss: 51.9282 - mae: 52.3567\n",
            "Epoch 44/300\n",
            "1674/1674 [==============================] - 24s 14ms/step - loss: 51.9159 - mae: 52.3433\n",
            "Epoch 45/300\n",
            "1674/1674 [==============================] - 24s 14ms/step - loss: 52.0457 - mae: 52.4716\n",
            "Epoch 46/300\n",
            "1674/1674 [==============================] - 24s 14ms/step - loss: 51.8703 - mae: 52.2962\n",
            "Epoch 47/300\n",
            "1674/1674 [==============================] - 24s 14ms/step - loss: 51.7915 - mae: 52.2168\n",
            "Epoch 48/300\n",
            "1674/1674 [==============================] - 24s 14ms/step - loss: 51.6012 - mae: 52.0252\n",
            "Epoch 49/300\n",
            "1674/1674 [==============================] - 24s 14ms/step - loss: 51.6387 - mae: 52.0633\n",
            "Epoch 50/300\n",
            "1674/1674 [==============================] - 23s 14ms/step - loss: 51.7987 - mae: 52.2242\n",
            "Epoch 51/300\n",
            "1674/1674 [==============================] - 24s 14ms/step - loss: 51.7171 - mae: 52.1404\n",
            "Epoch 52/300\n",
            "1674/1674 [==============================] - 24s 14ms/step - loss: 51.6617 - mae: 52.0851\n",
            "Epoch 53/300\n",
            "1674/1674 [==============================] - 24s 14ms/step - loss: 51.7382 - mae: 52.1615\n",
            "Epoch 54/300\n",
            "1674/1674 [==============================] - 24s 14ms/step - loss: 51.6752 - mae: 52.0984\n",
            "Epoch 55/300\n",
            "1674/1674 [==============================] - 24s 14ms/step - loss: 51.5721 - mae: 51.9938\n",
            "Epoch 56/300\n",
            "1674/1674 [==============================] - 24s 14ms/step - loss: 51.5543 - mae: 51.9750\n",
            "Epoch 57/300\n",
            "1674/1674 [==============================] - 24s 14ms/step - loss: 51.6579 - mae: 52.0790\n",
            "Epoch 58/300\n",
            "1674/1674 [==============================] - 24s 14ms/step - loss: 51.7112 - mae: 52.1350\n",
            "Epoch 59/300\n",
            "1674/1674 [==============================] - 24s 14ms/step - loss: 51.4271 - mae: 51.8483\n",
            "Epoch 60/300\n",
            "1674/1674 [==============================] - 24s 14ms/step - loss: 51.3474 - mae: 51.7685\n",
            "Epoch 61/300\n",
            "1674/1674 [==============================] - 24s 14ms/step - loss: 51.6475 - mae: 52.0688\n",
            "Epoch 62/300\n",
            "1674/1674 [==============================] - 24s 14ms/step - loss: 51.4781 - mae: 51.8990\n",
            "Epoch 63/300\n",
            "1674/1674 [==============================] - 24s 14ms/step - loss: 51.5759 - mae: 51.9967\n",
            "Epoch 64/300\n",
            "1674/1674 [==============================] - 24s 14ms/step - loss: 51.7414 - mae: 52.1639\n",
            "Epoch 65/300\n",
            "1674/1674 [==============================] - 24s 14ms/step - loss: 51.4027 - mae: 51.8227\n",
            "Epoch 66/300\n",
            "1674/1674 [==============================] - 24s 14ms/step - loss: 51.4419 - mae: 51.8610\n",
            "Epoch 67/300\n",
            "1674/1674 [==============================] - 24s 14ms/step - loss: 51.1765 - mae: 51.5941\n",
            "Epoch 68/300\n",
            "1674/1674 [==============================] - 24s 14ms/step - loss: 51.0838 - mae: 51.5009\n",
            "Epoch 69/300\n",
            "1674/1674 [==============================] - 24s 14ms/step - loss: 51.3888 - mae: 51.8086\n",
            "Epoch 70/300\n",
            "1674/1674 [==============================] - 24s 14ms/step - loss: 50.8704 - mae: 51.2859\n",
            "Epoch 71/300\n",
            "1674/1674 [==============================] - 24s 14ms/step - loss: 50.9816 - mae: 51.3967\n",
            "Epoch 72/300\n",
            "1674/1674 [==============================] - 24s 14ms/step - loss: 51.1064 - mae: 51.5234\n",
            "Epoch 73/300\n",
            "1674/1674 [==============================] - 24s 14ms/step - loss: 51.0106 - mae: 51.4257\n",
            "Epoch 74/300\n",
            "1674/1674 [==============================] - 24s 14ms/step - loss: 51.1346 - mae: 51.5499\n",
            "Epoch 75/300\n",
            "1674/1674 [==============================] - 24s 14ms/step - loss: 51.1172 - mae: 51.5340\n",
            "Epoch 76/300\n",
            "1674/1674 [==============================] - 24s 15ms/step - loss: 50.9215 - mae: 51.3366\n",
            "Epoch 77/300\n",
            "1674/1674 [==============================] - 24s 15ms/step - loss: 51.0048 - mae: 51.4204\n",
            "Epoch 78/300\n",
            "1674/1674 [==============================] - 24s 14ms/step - loss: 51.1402 - mae: 51.5551\n",
            "Epoch 79/300\n",
            "1674/1674 [==============================] - 24s 14ms/step - loss: 51.2910 - mae: 51.7060\n",
            "Epoch 80/300\n",
            "1674/1674 [==============================] - 24s 14ms/step - loss: 50.8155 - mae: 51.2286\n",
            "Epoch 81/300\n",
            "1674/1674 [==============================] - 24s 14ms/step - loss: 50.7712 - mae: 51.1840\n",
            "Epoch 82/300\n",
            "1674/1674 [==============================] - 24s 14ms/step - loss: 50.9820 - mae: 51.3965\n",
            "Epoch 83/300\n",
            "1674/1674 [==============================] - 24s 14ms/step - loss: 50.8251 - mae: 51.2382\n",
            "Epoch 84/300\n",
            "1674/1674 [==============================] - 24s 14ms/step - loss: 50.9078 - mae: 51.3197\n",
            "Epoch 85/300\n",
            "1674/1674 [==============================] - 24s 14ms/step - loss: 50.8688 - mae: 51.2837\n",
            "Epoch 86/300\n",
            "1674/1674 [==============================] - 24s 14ms/step - loss: 50.9060 - mae: 51.3211\n",
            "Epoch 87/300\n",
            "1674/1674 [==============================] - 24s 14ms/step - loss: 50.9321 - mae: 51.3464\n",
            "Epoch 88/300\n",
            "1674/1674 [==============================] - 24s 14ms/step - loss: 50.6580 - mae: 51.0684\n",
            "Epoch 89/300\n",
            "1674/1674 [==============================] - 24s 14ms/step - loss: 50.8566 - mae: 51.2691\n",
            "Epoch 90/300\n",
            "1674/1674 [==============================] - 24s 14ms/step - loss: 50.7120 - mae: 51.1250\n",
            "Epoch 91/300\n",
            "1674/1674 [==============================] - 24s 14ms/step - loss: 50.8048 - mae: 51.2175\n",
            "Epoch 92/300\n",
            "1674/1674 [==============================] - 24s 14ms/step - loss: 50.6467 - mae: 51.0607\n",
            "Epoch 93/300\n",
            "1674/1674 [==============================] - 24s 14ms/step - loss: 50.8105 - mae: 51.2233\n",
            "Epoch 94/300\n",
            "1674/1674 [==============================] - 24s 14ms/step - loss: 50.7977 - mae: 51.2099\n",
            "Epoch 95/300\n",
            "1674/1674 [==============================] - 24s 14ms/step - loss: 50.6453 - mae: 51.0575\n",
            "Epoch 96/300\n",
            "1674/1674 [==============================] - 24s 14ms/step - loss: 50.4838 - mae: 50.8969\n",
            "Epoch 97/300\n",
            "1674/1674 [==============================] - 24s 14ms/step - loss: 50.6051 - mae: 51.0168\n",
            "Epoch 98/300\n",
            "1674/1674 [==============================] - 24s 14ms/step - loss: 50.4963 - mae: 50.9083\n",
            "Epoch 99/300\n",
            "1674/1674 [==============================] - 24s 14ms/step - loss: 50.4030 - mae: 50.8163\n",
            "Epoch 100/300\n",
            "1674/1674 [==============================] - 24s 14ms/step - loss: 50.6581 - mae: 51.0721\n",
            "Epoch 101/300\n",
            "1674/1674 [==============================] - 24s 14ms/step - loss: 50.5979 - mae: 51.0132\n",
            "Epoch 102/300\n",
            "1674/1674 [==============================] - 24s 14ms/step - loss: 50.6992 - mae: 51.1126\n",
            "Epoch 103/300\n",
            "1674/1674 [==============================] - 24s 14ms/step - loss: 50.4351 - mae: 50.8473\n",
            "Epoch 104/300\n",
            "1674/1674 [==============================] - 24s 14ms/step - loss: 50.4999 - mae: 50.9119\n",
            "Epoch 105/300\n",
            "1674/1674 [==============================] - 24s 14ms/step - loss: 50.3772 - mae: 50.7866\n",
            "Epoch 106/300\n",
            "1674/1674 [==============================] - 24s 14ms/step - loss: 50.3441 - mae: 50.7554\n",
            "Epoch 107/300\n",
            "1674/1674 [==============================] - 24s 14ms/step - loss: 50.2273 - mae: 50.6399\n",
            "Epoch 108/300\n",
            "1674/1674 [==============================] - 24s 14ms/step - loss: 50.3390 - mae: 50.7507\n",
            "Epoch 109/300\n",
            "1674/1674 [==============================] - 24s 14ms/step - loss: 50.4012 - mae: 50.8129\n",
            "Epoch 110/300\n",
            "1674/1674 [==============================] - 24s 14ms/step - loss: 50.7437 - mae: 51.1582\n",
            "Epoch 111/300\n",
            "1674/1674 [==============================] - 24s 14ms/step - loss: 50.4775 - mae: 50.8910\n",
            "Epoch 112/300\n",
            "1674/1674 [==============================] - 24s 14ms/step - loss: 50.4321 - mae: 50.8443\n",
            "Epoch 113/300\n",
            "1674/1674 [==============================] - 24s 14ms/step - loss: 50.4185 - mae: 50.8322\n",
            "Epoch 114/300\n",
            "1674/1674 [==============================] - 24s 14ms/step - loss: 50.3711 - mae: 50.7851\n",
            "Epoch 115/300\n",
            "1674/1674 [==============================] - 24s 14ms/step - loss: 50.3675 - mae: 50.7799\n",
            "Epoch 116/300\n",
            "1674/1674 [==============================] - 24s 14ms/step - loss: 50.3478 - mae: 50.7599\n",
            "Epoch 117/300\n",
            "1674/1674 [==============================] - 24s 14ms/step - loss: 50.2931 - mae: 50.7083\n",
            "Epoch 118/300\n",
            "1674/1674 [==============================] - 24s 14ms/step - loss: 50.4065 - mae: 50.8195\n",
            "Epoch 119/300\n",
            "1674/1674 [==============================] - 24s 14ms/step - loss: 50.2207 - mae: 50.6333\n",
            "Epoch 120/300\n",
            "1674/1674 [==============================] - 24s 14ms/step - loss: 50.1496 - mae: 50.5602\n",
            "Epoch 121/300\n",
            "1674/1674 [==============================] - 24s 14ms/step - loss: 50.1434 - mae: 50.5534\n",
            "Epoch 122/300\n",
            "1674/1674 [==============================] - 24s 14ms/step - loss: 50.4326 - mae: 50.8434\n",
            "Epoch 123/300\n",
            "1674/1674 [==============================] - 24s 14ms/step - loss: 50.2901 - mae: 50.7008\n",
            "Epoch 124/300\n",
            "1674/1674 [==============================] - 24s 14ms/step - loss: 50.4094 - mae: 50.8223\n",
            "Epoch 125/300\n",
            "1674/1674 [==============================] - 24s 14ms/step - loss: 50.3111 - mae: 50.7237\n",
            "Epoch 126/300\n",
            "1674/1674 [==============================] - 24s 14ms/step - loss: 50.1805 - mae: 50.5921\n",
            "Epoch 127/300\n",
            "1674/1674 [==============================] - 24s 14ms/step - loss: 50.2569 - mae: 50.6679\n",
            "Epoch 128/300\n",
            "1674/1674 [==============================] - 24s 14ms/step - loss: 50.2553 - mae: 50.6662\n",
            "Epoch 129/300\n",
            "1674/1674 [==============================] - 24s 14ms/step - loss: 50.2702 - mae: 50.6806\n",
            "Epoch 130/300\n",
            "1674/1674 [==============================] - 24s 14ms/step - loss: 50.1007 - mae: 50.5116\n",
            "Epoch 131/300\n",
            "1674/1674 [==============================] - 24s 14ms/step - loss: 50.1685 - mae: 50.5790\n",
            "Epoch 132/300\n",
            "1674/1674 [==============================] - 25s 15ms/step - loss: 50.0054 - mae: 50.4164\n",
            "Epoch 133/300\n",
            "1674/1674 [==============================] - 25s 15ms/step - loss: 50.1508 - mae: 50.5604\n",
            "Epoch 134/300\n",
            "1674/1674 [==============================] - 24s 14ms/step - loss: 50.1736 - mae: 50.5848\n",
            "Epoch 135/300\n",
            "1674/1674 [==============================] - 24s 15ms/step - loss: 50.1116 - mae: 50.5222\n",
            "Epoch 136/300\n",
            "1674/1674 [==============================] - 24s 14ms/step - loss: 50.0814 - mae: 50.4893\n",
            "Epoch 137/300\n",
            "1674/1674 [==============================] - 25s 15ms/step - loss: 50.1714 - mae: 50.5835\n",
            "Epoch 138/300\n",
            "1674/1674 [==============================] - 24s 15ms/step - loss: 50.2302 - mae: 50.6409\n",
            "Epoch 139/300\n",
            "1674/1674 [==============================] - 24s 14ms/step - loss: 50.1727 - mae: 50.5825\n",
            "Epoch 140/300\n",
            "1674/1674 [==============================] - 24s 15ms/step - loss: 50.2310 - mae: 50.6403\n",
            "Epoch 141/300\n",
            "1674/1674 [==============================] - 24s 15ms/step - loss: 50.1795 - mae: 50.5889\n",
            "Epoch 142/300\n",
            "1674/1674 [==============================] - 24s 14ms/step - loss: 50.2697 - mae: 50.6797\n",
            "Epoch 143/300\n",
            "1674/1674 [==============================] - 24s 14ms/step - loss: 50.0477 - mae: 50.4571\n",
            "Epoch 144/300\n",
            "1674/1674 [==============================] - 24s 14ms/step - loss: 50.1293 - mae: 50.5394\n",
            "Epoch 145/300\n",
            "1674/1674 [==============================] - 24s 14ms/step - loss: 50.3583 - mae: 50.7705\n",
            "Epoch 146/300\n",
            "1674/1674 [==============================] - 24s 14ms/step - loss: 50.0809 - mae: 50.4898\n",
            "Epoch 147/300\n",
            "1674/1674 [==============================] - 24s 14ms/step - loss: 50.0493 - mae: 50.4589\n",
            "Epoch 148/300\n",
            "1674/1674 [==============================] - 24s 14ms/step - loss: 49.9729 - mae: 50.3814\n",
            "Epoch 149/300\n",
            "1674/1674 [==============================] - 24s 14ms/step - loss: 50.1839 - mae: 50.5925\n",
            "Epoch 150/300\n",
            "1674/1674 [==============================] - 24s 14ms/step - loss: 49.9753 - mae: 50.3834\n",
            "Epoch 151/300\n",
            "1674/1674 [==============================] - 24s 14ms/step - loss: 50.0695 - mae: 50.4784\n",
            "Epoch 152/300\n",
            "1674/1674 [==============================] - 24s 14ms/step - loss: 50.0149 - mae: 50.4263\n",
            "Epoch 153/300\n",
            "1674/1674 [==============================] - 24s 15ms/step - loss: 49.9254 - mae: 50.3345\n",
            "Epoch 154/300\n",
            "1674/1674 [==============================] - 24s 14ms/step - loss: 50.0254 - mae: 50.4336\n",
            "Epoch 155/300\n",
            "1674/1674 [==============================] - 24s 15ms/step - loss: 49.9906 - mae: 50.4011\n",
            "Epoch 156/300\n",
            "1674/1674 [==============================] - 27s 16ms/step - loss: 49.9277 - mae: 50.3388\n",
            "Epoch 157/300\n",
            "1674/1674 [==============================] - 26s 16ms/step - loss: 49.9495 - mae: 50.3588\n",
            "Epoch 158/300\n",
            "1674/1674 [==============================] - 25s 15ms/step - loss: 49.9487 - mae: 50.3573\n",
            "Epoch 159/300\n",
            "1674/1674 [==============================] - 25s 15ms/step - loss: 49.9092 - mae: 50.3185\n",
            "Epoch 160/300\n",
            "1674/1674 [==============================] - 25s 15ms/step - loss: 49.8466 - mae: 50.2548\n",
            "Epoch 161/300\n",
            "1674/1674 [==============================] - 25s 15ms/step - loss: 49.8349 - mae: 50.2433\n",
            "Epoch 162/300\n",
            "1674/1674 [==============================] - 26s 16ms/step - loss: 50.2293 - mae: 50.6388\n",
            "Epoch 163/300\n",
            "1674/1674 [==============================] - 28s 16ms/step - loss: 49.9904 - mae: 50.3987\n",
            "Epoch 164/300\n",
            "1674/1674 [==============================] - 27s 16ms/step - loss: 49.9800 - mae: 50.3879\n",
            "Epoch 165/300\n",
            "1674/1674 [==============================] - 28s 17ms/step - loss: 49.9950 - mae: 50.4017\n",
            "Epoch 166/300\n",
            "1674/1674 [==============================] - 26s 16ms/step - loss: 49.8576 - mae: 50.2671\n",
            "Epoch 167/300\n",
            "1674/1674 [==============================] - 26s 15ms/step - loss: 50.0298 - mae: 50.4390\n",
            "Epoch 168/300\n",
            "1674/1674 [==============================] - 25s 15ms/step - loss: 50.0003 - mae: 50.4092\n",
            "Epoch 169/300\n",
            "1674/1674 [==============================] - 25s 15ms/step - loss: 49.8685 - mae: 50.2778\n",
            "Epoch 170/300\n",
            "1674/1674 [==============================] - 24s 15ms/step - loss: 49.9319 - mae: 50.3395\n",
            "Epoch 171/300\n",
            "1674/1674 [==============================] - 25s 15ms/step - loss: 49.6990 - mae: 50.1064\n",
            "Epoch 172/300\n",
            "1674/1674 [==============================] - 25s 15ms/step - loss: 49.7927 - mae: 50.1999\n",
            "Epoch 173/300\n",
            "1674/1674 [==============================] - 24s 15ms/step - loss: 49.9557 - mae: 50.3616\n",
            "Epoch 174/300\n",
            "1674/1674 [==============================] - 24s 15ms/step - loss: 49.9161 - mae: 50.3217\n",
            "Epoch 175/300\n",
            "1674/1674 [==============================] - 24s 15ms/step - loss: 50.0114 - mae: 50.4168\n",
            "Epoch 176/300\n",
            "1674/1674 [==============================] - 25s 15ms/step - loss: 49.8157 - mae: 50.2211\n",
            "Epoch 177/300\n",
            "1674/1674 [==============================] - 24s 15ms/step - loss: 49.8092 - mae: 50.2148\n",
            "Epoch 178/300\n",
            "1674/1674 [==============================] - 24s 14ms/step - loss: 49.8506 - mae: 50.2562\n",
            "Epoch 179/300\n",
            "1674/1674 [==============================] - 24s 15ms/step - loss: 49.8693 - mae: 50.2752\n",
            "Epoch 180/300\n",
            "1674/1674 [==============================] - 25s 15ms/step - loss: 49.8731 - mae: 50.2791\n",
            "Epoch 181/300\n",
            "1674/1674 [==============================] - 24s 15ms/step - loss: 49.8193 - mae: 50.2269\n",
            "Epoch 182/300\n",
            "1674/1674 [==============================] - 24s 15ms/step - loss: 49.8865 - mae: 50.2924\n",
            "Epoch 183/300\n",
            "1674/1674 [==============================] - 24s 14ms/step - loss: 49.8479 - mae: 50.2540\n",
            "Epoch 184/300\n",
            "1674/1674 [==============================] - 24s 14ms/step - loss: 49.6214 - mae: 50.0275\n",
            "Epoch 185/300\n",
            "1674/1674 [==============================] - 24s 14ms/step - loss: 49.6910 - mae: 50.0979\n",
            "Epoch 186/300\n",
            "1674/1674 [==============================] - 25s 15ms/step - loss: 49.7883 - mae: 50.1937\n",
            "Epoch 187/300\n",
            "1674/1674 [==============================] - 25s 15ms/step - loss: 49.6605 - mae: 50.0661\n",
            "Epoch 188/300\n",
            "1674/1674 [==============================] - 26s 15ms/step - loss: 49.6753 - mae: 50.0790\n",
            "Epoch 189/300\n",
            "1674/1674 [==============================] - 25s 15ms/step - loss: 49.7812 - mae: 50.1852\n",
            "Epoch 190/300\n",
            "1674/1674 [==============================] - 25s 15ms/step - loss: 49.8179 - mae: 50.2235\n",
            "Epoch 191/300\n",
            "1674/1674 [==============================] - 25s 15ms/step - loss: 49.5989 - mae: 50.0036\n",
            "Epoch 192/300\n",
            "1674/1674 [==============================] - 24s 15ms/step - loss: 49.7598 - mae: 50.1640\n",
            "Epoch 193/300\n",
            "1674/1674 [==============================] - 25s 15ms/step - loss: 49.7255 - mae: 50.1296\n",
            "Epoch 194/300\n",
            "1674/1674 [==============================] - 25s 15ms/step - loss: 49.6230 - mae: 50.0280\n",
            "Epoch 195/300\n",
            "1674/1674 [==============================] - 25s 15ms/step - loss: 49.7509 - mae: 50.1564\n",
            "Epoch 196/300\n",
            "1674/1674 [==============================] - 26s 16ms/step - loss: 49.6330 - mae: 50.0365\n",
            "Epoch 197/300\n",
            "1674/1674 [==============================] - 26s 15ms/step - loss: 49.5849 - mae: 49.9897\n",
            "Epoch 198/300\n",
            "1674/1674 [==============================] - 25s 15ms/step - loss: 49.6277 - mae: 50.0332\n",
            "Epoch 199/300\n",
            "1674/1674 [==============================] - 25s 15ms/step - loss: 49.6612 - mae: 50.0669\n",
            "Epoch 200/300\n",
            "1674/1674 [==============================] - 25s 15ms/step - loss: 49.6116 - mae: 50.0153\n",
            "Epoch 201/300\n",
            "1674/1674 [==============================] - 24s 15ms/step - loss: 49.6227 - mae: 50.0246\n",
            "Epoch 202/300\n",
            "1674/1674 [==============================] - 25s 15ms/step - loss: 49.5985 - mae: 50.0036\n",
            "Epoch 203/300\n",
            "1674/1674 [==============================] - 25s 15ms/step - loss: 49.6522 - mae: 50.0561\n",
            "Epoch 204/300\n",
            "1674/1674 [==============================] - 24s 15ms/step - loss: 49.4775 - mae: 49.8795\n",
            "Epoch 205/300\n",
            "1674/1674 [==============================] - 25s 15ms/step - loss: 49.6362 - mae: 50.0381\n",
            "Epoch 206/300\n",
            "1674/1674 [==============================] - 25s 15ms/step - loss: 49.5079 - mae: 49.9095\n",
            "Epoch 207/300\n",
            "1674/1674 [==============================] - 25s 15ms/step - loss: 49.5637 - mae: 49.9659\n",
            "Epoch 208/300\n",
            "1674/1674 [==============================] - 25s 15ms/step - loss: 49.4792 - mae: 49.8815\n",
            "Epoch 209/300\n",
            "1674/1674 [==============================] - 25s 15ms/step - loss: 49.5834 - mae: 49.9904\n",
            "Epoch 210/300\n",
            "1674/1674 [==============================] - 25s 15ms/step - loss: 49.4906 - mae: 49.8945\n",
            "Epoch 211/300\n",
            "1674/1674 [==============================] - 25s 15ms/step - loss: 49.6414 - mae: 50.0476\n",
            "Epoch 212/300\n",
            "1674/1674 [==============================] - 25s 15ms/step - loss: 49.6833 - mae: 50.0883\n",
            "Epoch 213/300\n",
            "1674/1674 [==============================] - 25s 15ms/step - loss: 49.7436 - mae: 50.1497\n",
            "Epoch 214/300\n",
            "1674/1674 [==============================] - 25s 15ms/step - loss: 49.6053 - mae: 50.0105\n",
            "Epoch 215/300\n",
            "1674/1674 [==============================] - 25s 15ms/step - loss: 49.4861 - mae: 49.8903\n",
            "Epoch 216/300\n",
            "1674/1674 [==============================] - 25s 15ms/step - loss: 49.4890 - mae: 49.8919\n",
            "Epoch 217/300\n",
            "1674/1674 [==============================] - 25s 15ms/step - loss: 49.5952 - mae: 49.9973\n",
            "Epoch 218/300\n",
            "1674/1674 [==============================] - 24s 15ms/step - loss: 49.4715 - mae: 49.8732\n",
            "Epoch 219/300\n",
            "1674/1674 [==============================] - 24s 15ms/step - loss: 49.5309 - mae: 49.9329\n",
            "Epoch 220/300\n",
            "1674/1674 [==============================] - 24s 15ms/step - loss: 49.3651 - mae: 49.7661\n",
            "Epoch 221/300\n",
            "1674/1674 [==============================] - 25s 15ms/step - loss: 49.6612 - mae: 50.0636\n",
            "Epoch 222/300\n",
            "1674/1674 [==============================] - 24s 15ms/step - loss: 49.5354 - mae: 49.9400\n",
            "Epoch 223/300\n",
            "1674/1674 [==============================] - 25s 15ms/step - loss: 49.4165 - mae: 49.8195\n",
            "Epoch 224/300\n",
            "1674/1674 [==============================] - 25s 15ms/step - loss: 49.6616 - mae: 50.0638\n",
            "Epoch 225/300\n",
            "1674/1674 [==============================] - 25s 15ms/step - loss: 49.4645 - mae: 49.8670\n",
            "Epoch 226/300\n",
            "1674/1674 [==============================] - 25s 15ms/step - loss: 49.5947 - mae: 49.9980\n",
            "Epoch 227/300\n",
            "1674/1674 [==============================] - 25s 15ms/step - loss: 49.5269 - mae: 49.9265\n",
            "Epoch 228/300\n",
            "1674/1674 [==============================] - 24s 15ms/step - loss: 49.5607 - mae: 49.9634\n",
            "Epoch 229/300\n",
            "1674/1674 [==============================] - 25s 15ms/step - loss: 49.5166 - mae: 49.9176\n",
            "Epoch 230/300\n",
            "1674/1674 [==============================] - 25s 15ms/step - loss: 49.7151 - mae: 50.1173\n",
            "Epoch 231/300\n",
            "1674/1674 [==============================] - 25s 15ms/step - loss: 49.6105 - mae: 50.0127\n",
            "Epoch 232/300\n",
            "1674/1674 [==============================] - 25s 15ms/step - loss: 49.8293 - mae: 50.2306\n",
            "Epoch 233/300\n",
            "1674/1674 [==============================] - 25s 15ms/step - loss: 49.7044 - mae: 50.1060\n",
            "Epoch 234/300\n",
            "1674/1674 [==============================] - 25s 15ms/step - loss: 49.4803 - mae: 49.8816\n",
            "Epoch 235/300\n",
            "1674/1674 [==============================] - 25s 15ms/step - loss: 49.6096 - mae: 50.0095\n",
            "Epoch 236/300\n",
            "1674/1674 [==============================] - 25s 15ms/step - loss: 49.4678 - mae: 49.8690\n",
            "Epoch 237/300\n",
            "1674/1674 [==============================] - 25s 15ms/step - loss: 49.4824 - mae: 49.8830\n",
            "Epoch 238/300\n",
            "1674/1674 [==============================] - 25s 15ms/step - loss: 49.3801 - mae: 49.7798\n",
            "Epoch 239/300\n",
            "1674/1674 [==============================] - 25s 15ms/step - loss: 49.5012 - mae: 49.9030\n",
            "Epoch 240/300\n",
            "1674/1674 [==============================] - 25s 15ms/step - loss: 49.6324 - mae: 50.0354\n",
            "Epoch 241/300\n",
            "1674/1674 [==============================] - 25s 15ms/step - loss: 49.4187 - mae: 49.8198\n",
            "Epoch 242/300\n",
            "1674/1674 [==============================] - 25s 15ms/step - loss: 49.4803 - mae: 49.8801\n",
            "Epoch 243/300\n",
            "1674/1674 [==============================] - 25s 15ms/step - loss: 49.6030 - mae: 50.0042\n",
            "Epoch 244/300\n",
            "1674/1674 [==============================] - 25s 15ms/step - loss: 49.4665 - mae: 49.8669\n",
            "Epoch 245/300\n",
            "1674/1674 [==============================] - 25s 15ms/step - loss: 49.4201 - mae: 49.8196\n",
            "Epoch 246/300\n",
            "1674/1674 [==============================] - 25s 15ms/step - loss: 49.4842 - mae: 49.8840\n",
            "Epoch 247/300\n",
            "1674/1674 [==============================] - 25s 15ms/step - loss: 49.4930 - mae: 49.8914\n",
            "Epoch 248/300\n",
            "1674/1674 [==============================] - 25s 15ms/step - loss: 49.4100 - mae: 49.8073\n",
            "Epoch 249/300\n",
            "1674/1674 [==============================] - 25s 15ms/step - loss: 49.4616 - mae: 49.8608\n",
            "Epoch 250/300\n",
            "1674/1674 [==============================] - 26s 15ms/step - loss: 49.5157 - mae: 49.9155\n",
            "Epoch 251/300\n",
            "1674/1674 [==============================] - 25s 15ms/step - loss: 49.4188 - mae: 49.8189\n",
            "Epoch 252/300\n",
            "1674/1674 [==============================] - 25s 15ms/step - loss: 49.5004 - mae: 49.9014\n",
            "Epoch 253/300\n",
            "1674/1674 [==============================] - 25s 15ms/step - loss: 49.4553 - mae: 49.8579\n",
            "Epoch 254/300\n",
            "1674/1674 [==============================] - 25s 15ms/step - loss: 49.4176 - mae: 49.8185\n",
            "Epoch 255/300\n",
            "1674/1674 [==============================] - 25s 15ms/step - loss: 49.4395 - mae: 49.8380\n",
            "Epoch 256/300\n",
            "1674/1674 [==============================] - 25s 15ms/step - loss: 49.4304 - mae: 49.8306\n",
            "Epoch 257/300\n",
            "1674/1674 [==============================] - 26s 15ms/step - loss: 49.4106 - mae: 49.8103\n",
            "Epoch 258/300\n",
            "1674/1674 [==============================] - 25s 15ms/step - loss: 49.3221 - mae: 49.7213\n",
            "Epoch 259/300\n",
            "1674/1674 [==============================] - 25s 15ms/step - loss: 49.3993 - mae: 49.7997\n",
            "Epoch 260/300\n",
            "1674/1674 [==============================] - 25s 15ms/step - loss: 49.3993 - mae: 49.7990\n",
            "Epoch 261/300\n",
            "1674/1674 [==============================] - 27s 16ms/step - loss: 49.3540 - mae: 49.7554\n",
            "Epoch 262/300\n",
            "1674/1674 [==============================] - 25s 15ms/step - loss: 49.4826 - mae: 49.8844\n",
            "Epoch 263/300\n",
            "1674/1674 [==============================] - 25s 15ms/step - loss: 49.3169 - mae: 49.7150\n",
            "Epoch 264/300\n",
            "1674/1674 [==============================] - 25s 15ms/step - loss: 49.3314 - mae: 49.7344\n",
            "Epoch 265/300\n",
            "1674/1674 [==============================] - 25s 15ms/step - loss: 49.4909 - mae: 49.8891\n",
            "Epoch 266/300\n",
            "1674/1674 [==============================] - 25s 15ms/step - loss: 49.4347 - mae: 49.8349\n",
            "Epoch 267/300\n",
            "1674/1674 [==============================] - 25s 15ms/step - loss: 49.3520 - mae: 49.7498\n",
            "Epoch 268/300\n",
            "1674/1674 [==============================] - 25s 15ms/step - loss: 49.3333 - mae: 49.7292\n",
            "Epoch 269/300\n",
            "1674/1674 [==============================] - 26s 15ms/step - loss: 49.3703 - mae: 49.7694\n",
            "Epoch 270/300\n",
            "1674/1674 [==============================] - 25s 15ms/step - loss: 49.4370 - mae: 49.8371\n",
            "Epoch 271/300\n",
            "1674/1674 [==============================] - 25s 15ms/step - loss: 49.3951 - mae: 49.7951\n",
            "Epoch 272/300\n",
            "1674/1674 [==============================] - 25s 15ms/step - loss: 49.4470 - mae: 49.8457\n",
            "Epoch 273/300\n",
            "1674/1674 [==============================] - 25s 15ms/step - loss: 49.3561 - mae: 49.7539\n",
            "Epoch 274/300\n",
            "1674/1674 [==============================] - 25s 15ms/step - loss: 49.3513 - mae: 49.7497\n",
            "Epoch 275/300\n",
            "1674/1674 [==============================] - 25s 15ms/step - loss: 49.3923 - mae: 49.7917\n",
            "Epoch 276/300\n",
            "1674/1674 [==============================] - 26s 15ms/step - loss: 49.2248 - mae: 49.6222\n",
            "Epoch 277/300\n",
            "1674/1674 [==============================] - 25s 15ms/step - loss: 49.3812 - mae: 49.7789\n",
            "Epoch 278/300\n",
            "1674/1674 [==============================] - 25s 15ms/step - loss: 49.4560 - mae: 49.8561\n",
            "Epoch 279/300\n",
            "1674/1674 [==============================] - 25s 15ms/step - loss: 49.3545 - mae: 49.7533\n",
            "Epoch 280/300\n",
            "1674/1674 [==============================] - 26s 15ms/step - loss: 49.2723 - mae: 49.6710\n",
            "Epoch 281/300\n",
            "1674/1674 [==============================] - 25s 15ms/step - loss: 49.3412 - mae: 49.7417\n",
            "Epoch 282/300\n",
            "1674/1674 [==============================] - 25s 15ms/step - loss: 49.3027 - mae: 49.7015\n",
            "Epoch 283/300\n",
            "1674/1674 [==============================] - 25s 15ms/step - loss: 49.4515 - mae: 49.8519\n",
            "Epoch 284/300\n",
            "1674/1674 [==============================] - 26s 15ms/step - loss: 49.3152 - mae: 49.7130\n",
            "Epoch 285/300\n",
            "1674/1674 [==============================] - 25s 15ms/step - loss: 49.4122 - mae: 49.8116\n",
            "Epoch 286/300\n",
            "1674/1674 [==============================] - 25s 15ms/step - loss: 49.2241 - mae: 49.6215\n",
            "Epoch 287/300\n",
            "1674/1674 [==============================] - 25s 15ms/step - loss: 49.2954 - mae: 49.6928\n",
            "Epoch 288/300\n",
            "1674/1674 [==============================] - 25s 15ms/step - loss: 49.1354 - mae: 49.5334\n",
            "Epoch 289/300\n",
            "1674/1674 [==============================] - 25s 15ms/step - loss: 49.2690 - mae: 49.6675\n",
            "Epoch 290/300\n",
            "1674/1674 [==============================] - 25s 15ms/step - loss: 49.2747 - mae: 49.6724\n",
            "Epoch 291/300\n",
            "1674/1674 [==============================] - 25s 15ms/step - loss: 49.2681 - mae: 49.6645\n",
            "Epoch 292/300\n",
            "1674/1674 [==============================] - 25s 15ms/step - loss: 49.2656 - mae: 49.6641\n",
            "Epoch 293/300\n",
            "1674/1674 [==============================] - 25s 15ms/step - loss: 49.3161 - mae: 49.7142\n",
            "Epoch 294/300\n",
            "1674/1674 [==============================] - 25s 15ms/step - loss: 49.3205 - mae: 49.7195\n",
            "Epoch 295/300\n",
            "1674/1674 [==============================] - 25s 15ms/step - loss: 49.2332 - mae: 49.6324\n",
            "Epoch 296/300\n",
            "1674/1674 [==============================] - 26s 15ms/step - loss: 49.2714 - mae: 49.6682\n",
            "Epoch 297/300\n",
            "1674/1674 [==============================] - 25s 15ms/step - loss: 49.2047 - mae: 49.6042\n",
            "Epoch 298/300\n",
            "1674/1674 [==============================] - 25s 15ms/step - loss: 49.2120 - mae: 49.6093\n",
            "Epoch 299/300\n",
            "1674/1674 [==============================] - 25s 15ms/step - loss: 49.1851 - mae: 49.5837\n",
            "Epoch 300/300\n",
            "1674/1674 [==============================] - 25s 15ms/step - loss: 49.2409 - mae: 49.6395\n"
          ],
          "name": "stdout"
        }
      ]
    },
    {
      "cell_type": "code",
      "metadata": {
        "id": "_xl0ZjedM1wY"
      },
      "source": [
        "# Save weights\n",
        "model_path = os.path.join(ROOT_DIR, \"Irradiance_cnn_1.h5\")\n",
        "model_cnn.save_weights(model_path)\n",
        "model_cnn.save('my_model_cnn_1.h5')\n",
        "\n",
        "#load weights\n",
        "# model_cnn = tf.keras.models.load_model('my_model_cnn_1.h5')\n",
        "# print(\"Loading weights from \", model_path)\n",
        "# model_cnn.load_weights(model_path, by_name=True)"
      ],
      "execution_count": null,
      "outputs": []
    },
    {
      "cell_type": "code",
      "metadata": {
        "id": "nvo0vkm1NGbw",
        "colab": {
          "base_uri": "https://localhost:8080/",
          "height": 439
        },
        "outputId": "036ebd39-e07b-471d-e7b5-df584f3ce032"
      },
      "source": [
        "lstm_forecast = model_forecast(model_cnn, df_123[..., np.newaxis], window_size, batch_size)\n",
        "lstm_forecast = lstm_forecast[split_time - window_size:-1, -1, 0]\n",
        "\n",
        "lstm_residuals = lstm_forecast - x_test\n",
        "lstm_rmse = np.sqrt(np.sum(np.power(lstm_residuals,2)) / len(lstm_residuals))\n",
        "print('RMSE = %.2f' % lstm_rmse)\n",
        "\n",
        "plot_series(time_test, x_test, lstm_forecast)"
      ],
      "execution_count": null,
      "outputs": [
        {
          "output_type": "stream",
          "text": [
            "/usr/local/lib/python3.7/dist-packages/ipykernel_launcher.py:1: FutureWarning: Support for multi-dimensional indexing (e.g. `obj[:, None]`) is deprecated and will be removed in a future version.  Convert to a numpy array before indexing instead.\n",
            "  \"\"\"Entry point for launching an IPython kernel.\n"
          ],
          "name": "stderr"
        },
        {
          "output_type": "stream",
          "text": [
            "RMSE = 385.69\n"
          ],
          "name": "stdout"
        },
        {
          "output_type": "display_data",
          "data": {
            "image/png": "[encoded data removed]",
            "text/plain": [
              "<Figure size 1080x360 with 1 Axes>"
            ]
          },
          "metadata": {
            "tags": [],
            "needs_background": "light"
          }
        }
      ]
    },
    {
      "cell_type": "code",
      "metadata": {
        "colab": {
          "base_uri": "https://localhost:8080/",
          "height": 312
        },
        "id": "rLkj867GhZjR",
        "outputId": "8fc9502d-0acc-48d9-ea7a-9522ec329d3a"
      },
      "source": [
        "plot_history(history_cnn)"
      ],
      "execution_count": null,
      "outputs": [
        {
          "output_type": "display_data",
          "data": {
            "image/png": "[encoded data removed]",
            "text/plain": [
              "<Figure size 432x288 with 1 Axes>"
            ]
          },
          "metadata": {
            "tags": [],
            "needs_background": "light"
          }
        },
        {
          "output_type": "display_data",
          "data": {
            "text/plain": [
              "<Figure size 432x288 with 0 Axes>"
            ]
          },
          "metadata": {
            "tags": []
          }
        }
      ]
    },
    {
      "cell_type": "markdown",
      "metadata": {
        "id": "rm2s98K4g8hD"
      },
      "source": [
        "# ***Modelling for 1 Day ahead prediction with 1 hour resolution***"
      ]
    },
    {
      "cell_type": "code",
      "metadata": {
        "id": "_q_4fBItIl3s"
      },
      "source": [
        "window_size = 41\n",
        "batch_size = 32\n",
        "shuffle_buffer_size = 1000"
      ],
      "execution_count": null,
      "outputs": []
    },
    {
      "cell_type": "code",
      "metadata": {
        "id": "eFel6y8YbuLI",
        "colab": {
          "base_uri": "https://localhost:8080/"
        },
        "outputId": "a6c260e4-d699-4c90-e640-4836c1d27974"
      },
      "source": [
        "df_fe=df.copy(deep=True)\n",
        "df_fe= df_fe.iloc[range(0,len(df_fe),4)]\n",
        "df_fe.shape"
      ],
      "execution_count": null,
      "outputs": [
        {
          "output_type": "execute_result",
          "data": {
            "text/plain": [
              "(119038, 2)"
            ]
          },
          "metadata": {
            "tags": []
          },
          "execution_count": 30
        }
      ]
    },
    {
      "cell_type": "code",
      "metadata": {
        "id": "_XoDYjQTWcHg"
      },
      "source": [
        "l = len(df_fe)\n",
        "split_time = int(90*l/100)\n",
        "df_train=df_fe[:split_time]\n",
        "df_test=df_fe[split_time:split_time+24]\n",
        "\n",
        "\n",
        "time_train = [i.strftime(\"%H:%M:%S\") for i in df_train['PeriodStart']]\n",
        "x_train = df_train['Ghi']\n",
        "time_test = [i.strftime(\"%H:%M:%S\") for i in df_test['PeriodStart']]\n",
        "x_test = df_test['Ghi']\n",
        "df_123= df_fe['Ghi'][:split_time+24]"
      ],
      "execution_count": null,
      "outputs": []
    },
    {
      "cell_type": "code",
      "metadata": {
        "id": "uILMsZxFhVoh"
      },
      "source": [
        "def windowed_dataset_1day(series, window_size, batch_size, shuffle_buffer):\n",
        "    dataset = tf.data.Dataset.from_tensor_slices(series)\n",
        "    dataset = dataset.window(window_size + 24, shift=24, drop_remainder=True)\n",
        "    dataset = dataset.flat_map(lambda window: window.batch(window_size + 24))\n",
        "    dataset = dataset.shuffle(shuffle_buffer).map(lambda window: (window[:-24], window[-24:]))\n",
        "    print(dataset)\n",
        "    dataset = dataset.batch(batch_size).prefetch(1)\n",
        "    return dataset"
      ],
      "execution_count": null,
      "outputs": []
    },
    {
      "cell_type": "markdown",
      "metadata": {
        "id": "4lwUUTjNhdoj"
      },
      "source": [
        "**Regression model**"
      ]
    },
    {
      "cell_type": "code",
      "metadata": {
        "id": "fKS6snibctuu"
      },
      "source": [
        "model_ann = tf.keras.models.Sequential([\n",
        "    tf.keras.layers.Dense(20, input_shape=[window_size]), \n",
        "    tf.keras.layers.Dense(24)\n",
        "])"
      ],
      "execution_count": null,
      "outputs": []
    },
    {
      "cell_type": "code",
      "metadata": {
        "id": "T_XoppPRd2AQ",
        "colab": {
          "base_uri": "https://localhost:8080/"
        },
        "outputId": "437959a5-a724-4662-8231-75c80381ff60"
      },
      "source": [
        "dataset = windowed_dataset_1day(x_train.to_numpy(), window_size, batch_size, shuffle_buffer_size)"
      ],
      "execution_count": null,
      "outputs": [
        {
          "output_type": "stream",
          "text": [
            "<MapDataset shapes: ((None,), (None,)), types: (tf.int64, tf.int64)>\n"
          ],
          "name": "stdout"
        }
      ]
    },
    {
      "cell_type": "code",
      "metadata": {
        "id": "8yjuPIsud6xY",
        "colab": {
          "base_uri": "https://localhost:8080/"
        },
        "outputId": "111c8026-36bb-484a-f33b-6486012ac334"
      },
      "source": [
        "model_ann.compile(loss=tf.keras.losses.Huber(), optimizer=tf.keras.optimizers.SGD(lr=1e-7, momentum=0.9), metrics=[\"mae\"])\n",
        "history_ann = model_ann.fit(dataset,epochs=300,verbose=0)"
      ],
      "execution_count": null,
      "outputs": [
        {
          "output_type": "stream",
          "text": [
            "/usr/local/lib/python3.7/dist-packages/tensorflow/python/keras/optimizer_v2/optimizer_v2.py:375: UserWarning: The `lr` argument is deprecated, use `learning_rate` instead.\n",
            "  \"The `lr` argument is deprecated, use `learning_rate` instead.\")\n"
          ],
          "name": "stderr"
        }
      ]
    },
    {
      "cell_type": "code",
      "metadata": {
        "id": "BPhIPH7zd-XY"
      },
      "source": [
        "# Save weights\n",
        "model_path = os.path.join(ROOT_DIR, \"Irradiance_perday.h5\")\n",
        "model_ann.save_weights(model_path)\n",
        "model_ann.save('my_model_perday.h5')\n",
        "\n",
        "#load weights\n",
        "# model_ann = tf.keras.models.load_model('my_model_perday.h5')\n",
        "# print(\"Loading weights from \", model_path)\n",
        "# model_ann.load_weights(model_path, by_name=True)"
      ],
      "execution_count": null,
      "outputs": []
    },
    {
      "cell_type": "code",
      "metadata": {
        "id": "vfmvLtdre1EH",
        "colab": {
          "base_uri": "https://localhost:8080/",
          "height": 402
        },
        "outputId": "b3583615-6d61-4829-b7bd-a6b02bc4a738"
      },
      "source": [
        "ann_forecast = model_forecast(model_ann, df_123.to_numpy(), window_size, batch_size)\n",
        "ann_forecast = ann_forecast[split_time - window_size:-1, -1]\n",
        "\n",
        "ann_residuals = ann_forecast - x_test\n",
        "ann_rmse = np.sqrt(np.sum(np.power(ann_residuals,2)) / len(ann_residuals))\n",
        "print('RMSE = %.2f' % ann_rmse)\n",
        "\n",
        "plt.figure(figsize=(10, 6))\n",
        "plot_series(time_test, x_test, ann_forecast)"
      ],
      "execution_count": 47,
      "outputs": [
        {
          "output_type": "stream",
          "text": [
            "RMSE = 641.07\n"
          ],
          "name": "stdout"
        },
        {
          "output_type": "display_data",
          "data": {
            "text/plain": [
              "<Figure size 720x432 with 0 Axes>"
            ]
          },
          "metadata": {
            "tags": []
          }
        },
        {
          "output_type": "display_data",
          "data": {
            "image/png": "[encoded data removed]",
            "text/plain": [
              "<Figure size 1080x360 with 1 Axes>"
            ]
          },
          "metadata": {
            "tags": [],
            "needs_background": "light"
          }
        }
      ]
    },
    {
      "cell_type": "code",
      "metadata": {
        "id": "agZ2x7qahsvB",
        "colab": {
          "base_uri": "https://localhost:8080/",
          "height": 312
        },
        "outputId": "6d00f01d-5a60-483b-a872-9fdc611f8e86"
      },
      "source": [
        "plot_history(history_ann)"
      ],
      "execution_count": null,
      "outputs": [
        {
          "output_type": "display_data",
          "data": {
            "image/png": "[encoded data removed]",
            "text/plain": [
              "<Figure size 432x288 with 1 Axes>"
            ]
          },
          "metadata": {
            "tags": [],
            "needs_background": "light"
          }
        },
        {
          "output_type": "display_data",
          "data": {
            "text/plain": [
              "<Figure size 432x288 with 0 Axes>"
            ]
          },
          "metadata": {
            "tags": []
          }
        }
      ]
    },
    {
      "cell_type": "markdown",
      "metadata": {
        "id": "kkUkS9rAi1bf"
      },
      "source": [
        "**Time Series Forecasting**"
      ]
    },
    {
      "cell_type": "code",
      "metadata": {
        "id": "1jaLdfWtiAZz"
      },
      "source": [
        "def windowed_dataset_cnn_1day(series, window_size, batch_size, shuffle_buffer):\n",
        "    series = tf.expand_dims(series, axis=-1)\n",
        "    ds = tf.data.Dataset.from_tensor_slices(series)\n",
        "    ds = ds.window(window_size + 24, shift=24, drop_remainder=True)\n",
        "    ds = ds.flat_map(lambda w: w.batch(window_size + 24))\n",
        "    # ds = ds.shuffle(shuffle_buffer)\n",
        "    ds = ds.map(lambda w: (w[:-24], w[24:]))\n",
        "    return ds.batch(batch_size).prefetch(1)"
      ],
      "execution_count": null,
      "outputs": []
    },
    {
      "cell_type": "code",
      "metadata": {
        "id": "Q23wTyHNeuqQ"
      },
      "source": [
        "tf.keras.backend.clear_session()\n",
        "tf.random.set_seed(51)\n",
        "np.random.seed(51)\n",
        "\n",
        "dataset = windowed_dataset_cnn_1day(x_train, window_size, batch_size, shuffle_buffer_size)\n",
        "\n",
        "model_cnn = tf.keras.models.Sequential([\n",
        "  tf.keras.layers.Conv1D(filters=32, kernel_size=3,\n",
        "                      strides=1, padding=\"causal\",\n",
        "                      activation=\"relu\",\n",
        "                      input_shape=[None, 1]),\n",
        "  tf.keras.layers.LSTM(32, return_sequences=True),\n",
        "  tf.keras.layers.LSTM(32, return_sequences=True),\n",
        "  tf.keras.layers.Dense(24),\n",
        "  tf.keras.layers.Lambda(lambda x: x * 300)\n",
        "])"
      ],
      "execution_count": null,
      "outputs": []
    },
    {
      "cell_type": "code",
      "metadata": {
        "id": "JdU54DbKevdx",
        "colab": {
          "base_uri": "https://localhost:8080/"
        },
        "outputId": "612668d1-8bff-4a22-cc63-29dfab260117"
      },
      "source": [
        "optimizer = tf.keras.optimizers.SGD(lr=1e-5, momentum=0.9)\n",
        "model_cnn.compile(loss=tf.keras.losses.Huber(),\n",
        "                  optimizer=optimizer,\n",
        "                  metrics=[\"mae\"])\n",
        "history = model_cnn.fit(dataset,epochs=300)"
      ],
      "execution_count": null,
      "outputs": [
        {
          "output_type": "stream",
          "text": [
            "/usr/local/lib/python3.7/dist-packages/tensorflow/python/keras/optimizer_v2/optimizer_v2.py:375: UserWarning: The `lr` argument is deprecated, use `learning_rate` instead.\n",
            "  \"The `lr` argument is deprecated, use `learning_rate` instead.\")\n"
          ],
          "name": "stderr"
        },
        {
          "output_type": "stream",
          "text": [
            "Epoch 1/300\n",
            "140/140 [==============================] - 4s 10ms/step - loss: 211.0118 - mae: 211.5082\n",
            "Epoch 2/300\n",
            "140/140 [==============================] - 1s 9ms/step - loss: 172.0275 - mae: 172.5217\n",
            "Epoch 3/300\n",
            "140/140 [==============================] - 1s 9ms/step - loss: 136.4356 - mae: 136.9297\n",
            "Epoch 4/300\n",
            "140/140 [==============================] - 1s 10ms/step - loss: 111.8938 - mae: 112.3876\n",
            "Epoch 5/300\n",
            "140/140 [==============================] - 1s 9ms/step - loss: 98.0215 - mae: 98.5148\n",
            "Epoch 6/300\n",
            "140/140 [==============================] - 1s 9ms/step - loss: 90.4159 - mae: 90.9083\n",
            "Epoch 7/300\n",
            "140/140 [==============================] - 1s 9ms/step - loss: 86.7323 - mae: 87.2241\n",
            "Epoch 8/300\n",
            "140/140 [==============================] - 1s 10ms/step - loss: 84.6604 - mae: 85.1509\n",
            "Epoch 9/300\n",
            "140/140 [==============================] - 1s 10ms/step - loss: 83.1450 - mae: 83.6338\n",
            "Epoch 10/300\n",
            "140/140 [==============================] - 1s 10ms/step - loss: 82.8471 - mae: 83.3353\n",
            "Epoch 11/300\n",
            "140/140 [==============================] - 1s 10ms/step - loss: 81.7041 - mae: 82.1908\n",
            "Epoch 12/300\n",
            "140/140 [==============================] - 1s 9ms/step - loss: 81.4962 - mae: 81.9823\n",
            "Epoch 13/300\n",
            "140/140 [==============================] - 1s 9ms/step - loss: 81.8497 - mae: 82.3368\n",
            "Epoch 14/300\n",
            "140/140 [==============================] - 1s 9ms/step - loss: 81.0927 - mae: 81.5792\n",
            "Epoch 15/300\n",
            "140/140 [==============================] - 1s 10ms/step - loss: 80.8882 - mae: 81.3734\n",
            "Epoch 16/300\n",
            "140/140 [==============================] - 1s 9ms/step - loss: 80.4191 - mae: 80.9027\n",
            "Epoch 17/300\n",
            "140/140 [==============================] - 1s 10ms/step - loss: 80.0638 - mae: 80.5475\n",
            "Epoch 18/300\n",
            "140/140 [==============================] - 1s 9ms/step - loss: 79.8992 - mae: 80.3839\n",
            "Epoch 19/300\n",
            "140/140 [==============================] - 1s 10ms/step - loss: 79.9375 - mae: 80.4209\n",
            "Epoch 20/300\n",
            "140/140 [==============================] - 1s 10ms/step - loss: 80.9747 - mae: 81.4584\n",
            "Epoch 21/300\n",
            "140/140 [==============================] - 1s 10ms/step - loss: 80.7371 - mae: 81.2221\n",
            "Epoch 22/300\n",
            "140/140 [==============================] - 1s 10ms/step - loss: 80.0664 - mae: 80.5496\n",
            "Epoch 23/300\n",
            "140/140 [==============================] - 1s 10ms/step - loss: 80.5983 - mae: 81.0814\n",
            "Epoch 24/300\n",
            "140/140 [==============================] - 1s 9ms/step - loss: 79.2810 - mae: 79.7629\n",
            "Epoch 25/300\n",
            "140/140 [==============================] - 1s 9ms/step - loss: 79.0284 - mae: 79.5086\n",
            "Epoch 26/300\n",
            "140/140 [==============================] - 1s 9ms/step - loss: 79.0038 - mae: 79.4850\n",
            "Epoch 27/300\n",
            "140/140 [==============================] - 1s 10ms/step - loss: 78.6591 - mae: 79.1397\n",
            "Epoch 28/300\n",
            "140/140 [==============================] - 1s 10ms/step - loss: 78.4260 - mae: 78.9060\n",
            "Epoch 29/300\n",
            "140/140 [==============================] - 1s 10ms/step - loss: 78.2336 - mae: 78.7129\n",
            "Epoch 30/300\n",
            "140/140 [==============================] - 1s 9ms/step - loss: 78.4632 - mae: 78.9441\n",
            "Epoch 31/300\n",
            "140/140 [==============================] - 1s 10ms/step - loss: 78.2515 - mae: 78.7299\n",
            "Epoch 32/300\n",
            "140/140 [==============================] - 1s 10ms/step - loss: 78.2329 - mae: 78.7134\n",
            "Epoch 33/300\n",
            "140/140 [==============================] - 1s 10ms/step - loss: 78.7138 - mae: 79.1932\n",
            "Epoch 34/300\n",
            "140/140 [==============================] - 1s 10ms/step - loss: 77.6095 - mae: 78.0873\n",
            "Epoch 35/300\n",
            "140/140 [==============================] - 1s 9ms/step - loss: 77.8686 - mae: 78.3478\n",
            "Epoch 36/300\n",
            "140/140 [==============================] - 1s 10ms/step - loss: 77.6616 - mae: 78.1420\n",
            "Epoch 37/300\n",
            "140/140 [==============================] - 1s 9ms/step - loss: 77.2908 - mae: 77.7712\n",
            "Epoch 38/300\n",
            "140/140 [==============================] - 1s 10ms/step - loss: 77.1378 - mae: 77.6171\n",
            "Epoch 39/300\n",
            "140/140 [==============================] - 1s 10ms/step - loss: 77.0160 - mae: 77.4954\n",
            "Epoch 40/300\n",
            "140/140 [==============================] - 1s 9ms/step - loss: 76.4894 - mae: 76.9672\n",
            "Epoch 41/300\n",
            "140/140 [==============================] - 1s 9ms/step - loss: 76.9009 - mae: 77.3789\n",
            "Epoch 42/300\n",
            "140/140 [==============================] - 1s 10ms/step - loss: 76.4375 - mae: 76.9148\n",
            "Epoch 43/300\n",
            "140/140 [==============================] - 1s 10ms/step - loss: 76.4969 - mae: 76.9747\n",
            "Epoch 44/300\n",
            "140/140 [==============================] - 1s 10ms/step - loss: 76.4112 - mae: 76.8884\n",
            "Epoch 45/300\n",
            "140/140 [==============================] - 1s 9ms/step - loss: 76.2341 - mae: 76.7117\n",
            "Epoch 46/300\n",
            "140/140 [==============================] - 1s 10ms/step - loss: 76.4637 - mae: 76.9398\n",
            "Epoch 47/300\n",
            "140/140 [==============================] - 1s 10ms/step - loss: 76.1327 - mae: 76.6092\n",
            "Epoch 48/300\n",
            "140/140 [==============================] - 1s 9ms/step - loss: 75.9490 - mae: 76.4260\n",
            "Epoch 49/300\n",
            "140/140 [==============================] - 1s 9ms/step - loss: 75.8212 - mae: 76.2959\n",
            "Epoch 50/300\n",
            "140/140 [==============================] - 1s 10ms/step - loss: 76.6462 - mae: 77.1248\n",
            "Epoch 51/300\n",
            "140/140 [==============================] - 1s 10ms/step - loss: 76.4417 - mae: 76.9195\n",
            "Epoch 52/300\n",
            "140/140 [==============================] - 1s 10ms/step - loss: 75.5103 - mae: 75.9844\n",
            "Epoch 53/300\n",
            "140/140 [==============================] - 1s 9ms/step - loss: 75.4473 - mae: 75.9225\n",
            "Epoch 54/300\n",
            "140/140 [==============================] - 1s 10ms/step - loss: 75.1490 - mae: 75.6227\n",
            "Epoch 55/300\n",
            "140/140 [==============================] - 1s 10ms/step - loss: 75.3132 - mae: 75.7875\n",
            "Epoch 56/300\n",
            "140/140 [==============================] - 1s 9ms/step - loss: 75.1544 - mae: 75.6288\n",
            "Epoch 57/300\n",
            "140/140 [==============================] - 1s 10ms/step - loss: 74.9862 - mae: 75.4598\n",
            "Epoch 58/300\n",
            "140/140 [==============================] - 1s 10ms/step - loss: 75.4445 - mae: 75.9199\n",
            "Epoch 59/300\n",
            "140/140 [==============================] - 1s 10ms/step - loss: 75.5101 - mae: 75.9861\n",
            "Epoch 60/300\n",
            "140/140 [==============================] - 1s 10ms/step - loss: 75.3773 - mae: 75.8539\n",
            "Epoch 61/300\n",
            "140/140 [==============================] - 1s 10ms/step - loss: 75.3005 - mae: 75.7766\n",
            "Epoch 62/300\n",
            "140/140 [==============================] - 1s 9ms/step - loss: 75.4643 - mae: 75.9402\n",
            "Epoch 63/300\n",
            "140/140 [==============================] - 1s 10ms/step - loss: 75.5405 - mae: 76.0166\n",
            "Epoch 64/300\n",
            "140/140 [==============================] - 1s 9ms/step - loss: 75.4350 - mae: 75.9110\n",
            "Epoch 65/300\n",
            "140/140 [==============================] - 1s 10ms/step - loss: 75.1714 - mae: 75.6453\n",
            "Epoch 66/300\n",
            "140/140 [==============================] - 1s 10ms/step - loss: 74.9599 - mae: 75.4337\n",
            "Epoch 67/300\n",
            "140/140 [==============================] - 1s 10ms/step - loss: 75.0322 - mae: 75.5078\n",
            "Epoch 68/300\n",
            "140/140 [==============================] - 1s 10ms/step - loss: 75.0673 - mae: 75.5427\n",
            "Epoch 69/300\n",
            "140/140 [==============================] - 1s 10ms/step - loss: 74.9461 - mae: 75.4206\n",
            "Epoch 70/300\n",
            "140/140 [==============================] - 1s 10ms/step - loss: 75.0823 - mae: 75.5569\n",
            "Epoch 71/300\n",
            "140/140 [==============================] - 1s 10ms/step - loss: 74.8924 - mae: 75.3666\n",
            "Epoch 72/300\n",
            "140/140 [==============================] - 1s 10ms/step - loss: 74.8382 - mae: 75.3116\n",
            "Epoch 73/300\n",
            "140/140 [==============================] - 1s 10ms/step - loss: 74.7774 - mae: 75.2505\n",
            "Epoch 74/300\n",
            "140/140 [==============================] - 1s 10ms/step - loss: 74.7120 - mae: 75.1847\n",
            "Epoch 75/300\n",
            "140/140 [==============================] - 1s 10ms/step - loss: 74.6707 - mae: 75.1433\n",
            "Epoch 76/300\n",
            "140/140 [==============================] - 1s 10ms/step - loss: 74.6040 - mae: 75.0762\n",
            "Epoch 77/300\n",
            "140/140 [==============================] - 1s 10ms/step - loss: 74.5356 - mae: 75.0074\n",
            "Epoch 78/300\n",
            "140/140 [==============================] - 2s 11ms/step - loss: 74.4008 - mae: 74.8724\n",
            "Epoch 79/300\n",
            "140/140 [==============================] - 1s 10ms/step - loss: 74.4604 - mae: 74.9317\n",
            "Epoch 80/300\n",
            "140/140 [==============================] - 1s 9ms/step - loss: 74.5439 - mae: 75.0153\n",
            "Epoch 81/300\n",
            "140/140 [==============================] - 1s 10ms/step - loss: 74.3580 - mae: 74.8284\n",
            "Epoch 82/300\n",
            "140/140 [==============================] - 1s 10ms/step - loss: 74.3215 - mae: 74.7919\n",
            "Epoch 83/300\n",
            "140/140 [==============================] - 1s 9ms/step - loss: 74.2938 - mae: 74.7644\n",
            "Epoch 84/300\n",
            "140/140 [==============================] - 1s 10ms/step - loss: 74.2169 - mae: 74.6869\n",
            "Epoch 85/300\n",
            "140/140 [==============================] - 1s 10ms/step - loss: 74.1950 - mae: 74.6650\n",
            "Epoch 86/300\n",
            "140/140 [==============================] - 1s 9ms/step - loss: 74.1604 - mae: 74.6299\n",
            "Epoch 87/300\n",
            "140/140 [==============================] - 1s 10ms/step - loss: 74.1389 - mae: 74.6080\n",
            "Epoch 88/300\n",
            "140/140 [==============================] - 1s 10ms/step - loss: 74.0574 - mae: 74.5258\n",
            "Epoch 89/300\n",
            "140/140 [==============================] - 1s 10ms/step - loss: 74.1130 - mae: 74.5817\n",
            "Epoch 90/300\n",
            "140/140 [==============================] - 1s 10ms/step - loss: 74.0667 - mae: 74.5351\n",
            "Epoch 91/300\n",
            "140/140 [==============================] - 1s 10ms/step - loss: 74.2006 - mae: 74.6695\n",
            "Epoch 92/300\n",
            "140/140 [==============================] - 1s 10ms/step - loss: 74.2216 - mae: 74.6902\n",
            "Epoch 93/300\n",
            "140/140 [==============================] - 1s 10ms/step - loss: 74.1692 - mae: 74.6375\n",
            "Epoch 94/300\n",
            "140/140 [==============================] - 1s 10ms/step - loss: 74.0520 - mae: 74.5197\n",
            "Epoch 95/300\n",
            "140/140 [==============================] - 1s 10ms/step - loss: 74.1033 - mae: 74.5712\n",
            "Epoch 96/300\n",
            "140/140 [==============================] - 1s 10ms/step - loss: 74.0490 - mae: 74.5165\n",
            "Epoch 97/300\n",
            "140/140 [==============================] - 1s 10ms/step - loss: 74.0031 - mae: 74.4704\n",
            "Epoch 98/300\n",
            "140/140 [==============================] - 1s 10ms/step - loss: 74.0425 - mae: 74.5101\n",
            "Epoch 99/300\n",
            "140/140 [==============================] - 1s 10ms/step - loss: 74.0016 - mae: 74.4690\n",
            "Epoch 100/300\n",
            "140/140 [==============================] - 1s 10ms/step - loss: 74.0141 - mae: 74.4815\n",
            "Epoch 101/300\n",
            "140/140 [==============================] - 1s 10ms/step - loss: 73.9011 - mae: 74.3674\n",
            "Epoch 102/300\n",
            "140/140 [==============================] - 1s 10ms/step - loss: 73.8451 - mae: 74.3109\n",
            "Epoch 103/300\n",
            "140/140 [==============================] - 1s 10ms/step - loss: 73.8521 - mae: 74.3184\n",
            "Epoch 104/300\n",
            "140/140 [==============================] - 1s 11ms/step - loss: 73.8936 - mae: 74.3601\n",
            "Epoch 105/300\n",
            "140/140 [==============================] - 1s 10ms/step - loss: 73.8444 - mae: 74.3101\n",
            "Epoch 106/300\n",
            "140/140 [==============================] - 1s 10ms/step - loss: 73.8054 - mae: 74.2717\n",
            "Epoch 107/300\n",
            "140/140 [==============================] - 1s 10ms/step - loss: 73.8504 - mae: 74.3164\n",
            "Epoch 108/300\n",
            "140/140 [==============================] - 1s 10ms/step - loss: 73.7523 - mae: 74.2178\n",
            "Epoch 109/300\n",
            "140/140 [==============================] - 1s 9ms/step - loss: 73.7746 - mae: 74.2401\n",
            "Epoch 110/300\n",
            "140/140 [==============================] - 1s 10ms/step - loss: 73.8073 - mae: 74.2725\n",
            "Epoch 111/300\n",
            "140/140 [==============================] - 1s 9ms/step - loss: 73.8429 - mae: 74.3079\n",
            "Epoch 112/300\n",
            "140/140 [==============================] - 1s 10ms/step - loss: 73.7347 - mae: 74.1988\n",
            "Epoch 113/300\n",
            "140/140 [==============================] - 1s 10ms/step - loss: 73.6352 - mae: 74.0994\n",
            "Epoch 114/300\n",
            "140/140 [==============================] - 1s 10ms/step - loss: 73.6907 - mae: 74.1552\n",
            "Epoch 115/300\n",
            "140/140 [==============================] - 1s 10ms/step - loss: 73.6742 - mae: 74.1392\n",
            "Epoch 116/300\n",
            "140/140 [==============================] - 1s 10ms/step - loss: 73.6914 - mae: 74.1564\n",
            "Epoch 117/300\n",
            "140/140 [==============================] - 1s 10ms/step - loss: 73.7472 - mae: 74.2130\n",
            "Epoch 118/300\n",
            "140/140 [==============================] - 1s 10ms/step - loss: 73.6230 - mae: 74.0879\n",
            "Epoch 119/300\n",
            "140/140 [==============================] - 1s 10ms/step - loss: 73.6293 - mae: 74.0938\n",
            "Epoch 120/300\n",
            "140/140 [==============================] - 1s 10ms/step - loss: 73.6282 - mae: 74.0924\n",
            "Epoch 121/300\n",
            "140/140 [==============================] - 1s 9ms/step - loss: 73.5476 - mae: 74.0117\n",
            "Epoch 122/300\n",
            "140/140 [==============================] - 1s 10ms/step - loss: 73.5316 - mae: 73.9944\n",
            "Epoch 123/300\n",
            "140/140 [==============================] - 1s 10ms/step - loss: 73.5529 - mae: 74.0169\n",
            "Epoch 124/300\n",
            "140/140 [==============================] - 1s 10ms/step - loss: 73.5097 - mae: 73.9729\n",
            "Epoch 125/300\n",
            "140/140 [==============================] - 1s 10ms/step - loss: 73.5988 - mae: 74.0626\n",
            "Epoch 126/300\n",
            "140/140 [==============================] - 1s 10ms/step - loss: 73.6498 - mae: 74.1136\n",
            "Epoch 127/300\n",
            "140/140 [==============================] - 1s 10ms/step - loss: 73.5534 - mae: 74.0167\n",
            "Epoch 128/300\n",
            "140/140 [==============================] - 1s 10ms/step - loss: 73.5191 - mae: 73.9818\n",
            "Epoch 129/300\n",
            "140/140 [==============================] - 1s 10ms/step - loss: 73.5119 - mae: 73.9745\n",
            "Epoch 130/300\n",
            "140/140 [==============================] - 1s 9ms/step - loss: 73.4064 - mae: 73.8685\n",
            "Epoch 131/300\n",
            "140/140 [==============================] - 1s 10ms/step - loss: 73.3930 - mae: 73.8547\n",
            "Epoch 132/300\n",
            "140/140 [==============================] - 1s 10ms/step - loss: 73.3967 - mae: 73.8582\n",
            "Epoch 133/300\n",
            "140/140 [==============================] - 1s 10ms/step - loss: 73.3958 - mae: 73.8575\n",
            "Epoch 134/300\n",
            "140/140 [==============================] - 1s 10ms/step - loss: 73.3316 - mae: 73.7931\n",
            "Epoch 135/300\n",
            "140/140 [==============================] - 1s 10ms/step - loss: 73.3323 - mae: 73.7936\n",
            "Epoch 136/300\n",
            "140/140 [==============================] - 1s 10ms/step - loss: 73.3675 - mae: 73.8288\n",
            "Epoch 137/300\n",
            "140/140 [==============================] - 1s 10ms/step - loss: 73.6904 - mae: 74.1520\n",
            "Epoch 138/300\n",
            "140/140 [==============================] - 1s 10ms/step - loss: 73.4858 - mae: 73.9474\n",
            "Epoch 139/300\n",
            "140/140 [==============================] - 1s 10ms/step - loss: 73.5790 - mae: 74.0406\n",
            "Epoch 140/300\n",
            "140/140 [==============================] - 1s 10ms/step - loss: 73.4269 - mae: 73.8879\n",
            "Epoch 141/300\n",
            "140/140 [==============================] - 1s 10ms/step - loss: 73.4857 - mae: 73.9473\n",
            "Epoch 142/300\n",
            "140/140 [==============================] - 1s 9ms/step - loss: 73.4648 - mae: 73.9266\n",
            "Epoch 143/300\n",
            "140/140 [==============================] - 1s 10ms/step - loss: 73.4091 - mae: 73.8699\n",
            "Epoch 144/300\n",
            "140/140 [==============================] - 1s 10ms/step - loss: 73.4325 - mae: 73.8929\n",
            "Epoch 145/300\n",
            "140/140 [==============================] - 1s 10ms/step - loss: 73.3953 - mae: 73.8569\n",
            "Epoch 146/300\n",
            "140/140 [==============================] - 1s 10ms/step - loss: 73.3405 - mae: 73.8012\n",
            "Epoch 147/300\n",
            "140/140 [==============================] - 1s 10ms/step - loss: 73.3622 - mae: 73.8229\n",
            "Epoch 148/300\n",
            "140/140 [==============================] - 1s 10ms/step - loss: 73.4762 - mae: 73.9368\n",
            "Epoch 149/300\n",
            "140/140 [==============================] - 1s 10ms/step - loss: 73.4188 - mae: 73.8791\n",
            "Epoch 150/300\n",
            "140/140 [==============================] - 1s 10ms/step - loss: 73.2634 - mae: 73.7226\n",
            "Epoch 151/300\n",
            "140/140 [==============================] - 1s 10ms/step - loss: 73.2054 - mae: 73.6647\n",
            "Epoch 152/300\n",
            "140/140 [==============================] - 1s 10ms/step - loss: 73.1740 - mae: 73.6332\n",
            "Epoch 153/300\n",
            "140/140 [==============================] - 1s 10ms/step - loss: 73.1801 - mae: 73.6387\n",
            "Epoch 154/300\n",
            "140/140 [==============================] - 1s 10ms/step - loss: 73.1481 - mae: 73.6069\n",
            "Epoch 155/300\n",
            "140/140 [==============================] - 1s 10ms/step - loss: 73.1266 - mae: 73.5855\n",
            "Epoch 156/300\n",
            "140/140 [==============================] - 1s 10ms/step - loss: 73.0964 - mae: 73.5557\n",
            "Epoch 157/300\n",
            "140/140 [==============================] - 1s 10ms/step - loss: 73.0222 - mae: 73.4799\n",
            "Epoch 158/300\n",
            "140/140 [==============================] - 1s 9ms/step - loss: 73.1038 - mae: 73.5624\n",
            "Epoch 159/300\n",
            "140/140 [==============================] - 1s 9ms/step - loss: 73.1840 - mae: 73.6424\n",
            "Epoch 160/300\n",
            "140/140 [==============================] - 1s 10ms/step - loss: 73.1828 - mae: 73.6420\n",
            "Epoch 161/300\n",
            "140/140 [==============================] - 1s 10ms/step - loss: 73.0060 - mae: 73.4640\n",
            "Epoch 162/300\n",
            "140/140 [==============================] - 1s 10ms/step - loss: 73.0173 - mae: 73.4748\n",
            "Epoch 163/300\n",
            "140/140 [==============================] - 1s 10ms/step - loss: 73.1238 - mae: 73.5811\n",
            "Epoch 164/300\n",
            "140/140 [==============================] - 1s 10ms/step - loss: 73.0795 - mae: 73.5373\n",
            "Epoch 165/300\n",
            "140/140 [==============================] - 1s 10ms/step - loss: 73.0336 - mae: 73.4910\n",
            "Epoch 166/300\n",
            "140/140 [==============================] - 1s 10ms/step - loss: 73.0271 - mae: 73.4842\n",
            "Epoch 167/300\n",
            "140/140 [==============================] - 1s 10ms/step - loss: 73.0491 - mae: 73.5072\n",
            "Epoch 168/300\n",
            "140/140 [==============================] - 1s 10ms/step - loss: 73.1071 - mae: 73.5649\n",
            "Epoch 169/300\n",
            "140/140 [==============================] - 1s 10ms/step - loss: 73.0800 - mae: 73.5372\n",
            "Epoch 170/300\n",
            "140/140 [==============================] - 1s 10ms/step - loss: 73.1140 - mae: 73.5714\n",
            "Epoch 171/300\n",
            "140/140 [==============================] - 1s 10ms/step - loss: 72.9972 - mae: 73.4541\n",
            "Epoch 172/300\n",
            "140/140 [==============================] - 1s 10ms/step - loss: 73.0447 - mae: 73.5017\n",
            "Epoch 173/300\n",
            "140/140 [==============================] - 1s 10ms/step - loss: 73.0633 - mae: 73.5200\n",
            "Epoch 174/300\n",
            "140/140 [==============================] - 1s 10ms/step - loss: 72.9833 - mae: 73.4400\n",
            "Epoch 175/300\n",
            "140/140 [==============================] - 1s 10ms/step - loss: 72.9685 - mae: 73.4253\n",
            "Epoch 176/300\n",
            "140/140 [==============================] - 1s 10ms/step - loss: 72.8853 - mae: 73.3409\n",
            "Epoch 177/300\n",
            "140/140 [==============================] - 1s 10ms/step - loss: 72.9766 - mae: 73.4332\n",
            "Epoch 178/300\n",
            "140/140 [==============================] - 1s 10ms/step - loss: 72.9089 - mae: 73.3644\n",
            "Epoch 179/300\n",
            "140/140 [==============================] - 1s 10ms/step - loss: 72.9640 - mae: 73.4199\n",
            "Epoch 180/300\n",
            "140/140 [==============================] - 1s 10ms/step - loss: 72.9775 - mae: 73.4335\n",
            "Epoch 181/300\n",
            "140/140 [==============================] - 1s 10ms/step - loss: 72.9735 - mae: 73.4293\n",
            "Epoch 182/300\n",
            "140/140 [==============================] - 1s 10ms/step - loss: 72.9026 - mae: 73.3581\n",
            "Epoch 183/300\n",
            "140/140 [==============================] - 1s 10ms/step - loss: 72.8813 - mae: 73.3366\n",
            "Epoch 184/300\n",
            "140/140 [==============================] - 1s 10ms/step - loss: 72.8210 - mae: 73.2758\n",
            "Epoch 185/300\n",
            "140/140 [==============================] - 1s 10ms/step - loss: 72.9393 - mae: 73.3946\n",
            "Epoch 186/300\n",
            "140/140 [==============================] - 1s 10ms/step - loss: 72.8690 - mae: 73.3237\n",
            "Epoch 187/300\n",
            "140/140 [==============================] - 1s 10ms/step - loss: 72.8701 - mae: 73.3249\n",
            "Epoch 188/300\n",
            "140/140 [==============================] - 1s 10ms/step - loss: 72.9256 - mae: 73.3805\n",
            "Epoch 189/300\n",
            "140/140 [==============================] - 1s 10ms/step - loss: 72.9025 - mae: 73.3572\n",
            "Epoch 190/300\n",
            "140/140 [==============================] - 1s 10ms/step - loss: 72.8154 - mae: 73.2691\n",
            "Epoch 191/300\n",
            "140/140 [==============================] - 1s 10ms/step - loss: 72.8116 - mae: 73.2652\n",
            "Epoch 192/300\n",
            "140/140 [==============================] - 1s 10ms/step - loss: 72.8729 - mae: 73.3270\n",
            "Epoch 193/300\n",
            "140/140 [==============================] - 1s 10ms/step - loss: 72.8591 - mae: 73.3134\n",
            "Epoch 194/300\n",
            "140/140 [==============================] - 1s 10ms/step - loss: 72.8738 - mae: 73.3270\n",
            "Epoch 195/300\n",
            "140/140 [==============================] - 1s 10ms/step - loss: 72.9387 - mae: 73.3919\n",
            "Epoch 196/300\n",
            "140/140 [==============================] - 1s 10ms/step - loss: 72.8804 - mae: 73.3351\n",
            "Epoch 197/300\n",
            "140/140 [==============================] - 1s 10ms/step - loss: 72.8302 - mae: 73.2842\n",
            "Epoch 198/300\n",
            "140/140 [==============================] - 1s 9ms/step - loss: 72.7759 - mae: 73.2298\n",
            "Epoch 199/300\n",
            "140/140 [==============================] - 1s 10ms/step - loss: 72.7808 - mae: 73.2341\n",
            "Epoch 200/300\n",
            "140/140 [==============================] - 1s 10ms/step - loss: 72.7679 - mae: 73.2215\n",
            "Epoch 201/300\n",
            "140/140 [==============================] - 1s 10ms/step - loss: 72.8335 - mae: 73.2865\n",
            "Epoch 202/300\n",
            "140/140 [==============================] - 1s 10ms/step - loss: 72.7756 - mae: 73.2284\n",
            "Epoch 203/300\n",
            "140/140 [==============================] - 1s 10ms/step - loss: 72.9615 - mae: 73.4150\n",
            "Epoch 204/300\n",
            "140/140 [==============================] - 1s 10ms/step - loss: 72.8999 - mae: 73.3530\n",
            "Epoch 205/300\n",
            "140/140 [==============================] - 1s 10ms/step - loss: 72.7316 - mae: 73.1837\n",
            "Epoch 206/300\n",
            "140/140 [==============================] - 1s 10ms/step - loss: 72.8027 - mae: 73.2552\n",
            "Epoch 207/300\n",
            "140/140 [==============================] - 1s 10ms/step - loss: 72.7466 - mae: 73.1980\n",
            "Epoch 208/300\n",
            "140/140 [==============================] - 1s 10ms/step - loss: 72.8320 - mae: 73.2844\n",
            "Epoch 209/300\n",
            "140/140 [==============================] - 1s 10ms/step - loss: 72.7560 - mae: 73.2077\n",
            "Epoch 210/300\n",
            "140/140 [==============================] - 1s 10ms/step - loss: 72.7061 - mae: 73.1568\n",
            "Epoch 211/300\n",
            "140/140 [==============================] - 1s 11ms/step - loss: 72.7668 - mae: 73.2188\n",
            "Epoch 212/300\n",
            "140/140 [==============================] - 1s 10ms/step - loss: 72.6863 - mae: 73.1371\n",
            "Epoch 213/300\n",
            "140/140 [==============================] - 1s 10ms/step - loss: 72.7212 - mae: 73.1722\n",
            "Epoch 214/300\n",
            "140/140 [==============================] - 1s 10ms/step - loss: 72.7353 - mae: 73.1863\n",
            "Epoch 215/300\n",
            "140/140 [==============================] - 1s 10ms/step - loss: 72.7181 - mae: 73.1693\n",
            "Epoch 216/300\n",
            "140/140 [==============================] - 1s 10ms/step - loss: 72.6697 - mae: 73.1207\n",
            "Epoch 217/300\n",
            "140/140 [==============================] - 1s 10ms/step - loss: 72.6664 - mae: 73.1167\n",
            "Epoch 218/300\n",
            "140/140 [==============================] - 1s 10ms/step - loss: 72.6822 - mae: 73.1331\n",
            "Epoch 219/300\n",
            "140/140 [==============================] - 1s 10ms/step - loss: 72.6870 - mae: 73.1380\n",
            "Epoch 220/300\n",
            "140/140 [==============================] - 1s 10ms/step - loss: 72.6159 - mae: 73.0657\n",
            "Epoch 221/300\n",
            "140/140 [==============================] - 1s 10ms/step - loss: 72.6105 - mae: 73.0597\n",
            "Epoch 222/300\n",
            "140/140 [==============================] - 1s 10ms/step - loss: 72.6530 - mae: 73.1031\n",
            "Epoch 223/300\n",
            "140/140 [==============================] - 1s 10ms/step - loss: 72.6845 - mae: 73.1341\n",
            "Epoch 224/300\n",
            "140/140 [==============================] - 1s 10ms/step - loss: 72.7346 - mae: 73.1847\n",
            "Epoch 225/300\n",
            "140/140 [==============================] - 1s 10ms/step - loss: 72.6524 - mae: 73.1020\n",
            "Epoch 226/300\n",
            "140/140 [==============================] - 1s 10ms/step - loss: 72.6481 - mae: 73.0976\n",
            "Epoch 227/300\n",
            "140/140 [==============================] - 1s 10ms/step - loss: 72.6523 - mae: 73.1023\n",
            "Epoch 228/300\n",
            "140/140 [==============================] - 1s 10ms/step - loss: 72.6232 - mae: 73.0729\n",
            "Epoch 229/300\n",
            "140/140 [==============================] - 1s 10ms/step - loss: 72.5952 - mae: 73.0452\n",
            "Epoch 230/300\n",
            "140/140 [==============================] - 1s 10ms/step - loss: 72.5987 - mae: 73.0475\n",
            "Epoch 231/300\n",
            "140/140 [==============================] - 1s 10ms/step - loss: 72.5897 - mae: 73.0381\n",
            "Epoch 232/300\n",
            "140/140 [==============================] - 1s 10ms/step - loss: 72.6348 - mae: 73.0839\n",
            "Epoch 233/300\n",
            "140/140 [==============================] - 1s 11ms/step - loss: 72.5789 - mae: 73.0281\n",
            "Epoch 234/300\n",
            "140/140 [==============================] - 1s 10ms/step - loss: 72.5717 - mae: 73.0213\n",
            "Epoch 235/300\n",
            "140/140 [==============================] - 1s 10ms/step - loss: 72.6129 - mae: 73.0612\n",
            "Epoch 236/300\n",
            "140/140 [==============================] - 1s 10ms/step - loss: 72.6274 - mae: 73.0766\n",
            "Epoch 237/300\n",
            "140/140 [==============================] - 1s 10ms/step - loss: 72.5788 - mae: 73.0278\n",
            "Epoch 238/300\n",
            "140/140 [==============================] - 2s 11ms/step - loss: 72.5482 - mae: 72.9969\n",
            "Epoch 239/300\n",
            "140/140 [==============================] - 1s 10ms/step - loss: 72.5098 - mae: 72.9586\n",
            "Epoch 240/300\n",
            "140/140 [==============================] - 1s 10ms/step - loss: 72.5762 - mae: 73.0242\n",
            "Epoch 241/300\n",
            "140/140 [==============================] - 1s 10ms/step - loss: 72.5347 - mae: 72.9827\n",
            "Epoch 242/300\n",
            "140/140 [==============================] - 1s 10ms/step - loss: 72.4975 - mae: 72.9449\n",
            "Epoch 243/300\n",
            "140/140 [==============================] - 1s 10ms/step - loss: 72.5381 - mae: 72.9860\n",
            "Epoch 244/300\n",
            "140/140 [==============================] - 1s 10ms/step - loss: 72.5705 - mae: 73.0188\n",
            "Epoch 245/300\n",
            "140/140 [==============================] - 1s 10ms/step - loss: 72.4359 - mae: 72.8835\n",
            "Epoch 246/300\n",
            "140/140 [==============================] - 1s 10ms/step - loss: 72.5102 - mae: 72.9583\n",
            "Epoch 247/300\n",
            "140/140 [==============================] - 1s 10ms/step - loss: 72.6054 - mae: 73.0534\n",
            "Epoch 248/300\n",
            "140/140 [==============================] - 1s 10ms/step - loss: 72.5863 - mae: 73.0341\n",
            "Epoch 249/300\n",
            "140/140 [==============================] - 1s 10ms/step - loss: 72.5201 - mae: 72.9676\n",
            "Epoch 250/300\n",
            "140/140 [==============================] - 1s 10ms/step - loss: 72.5113 - mae: 72.9582\n",
            "Epoch 251/300\n",
            "140/140 [==============================] - 1s 10ms/step - loss: 72.5055 - mae: 72.9531\n",
            "Epoch 252/300\n",
            "140/140 [==============================] - 1s 10ms/step - loss: 72.5454 - mae: 72.9924\n",
            "Epoch 253/300\n",
            "140/140 [==============================] - 1s 10ms/step - loss: 72.5064 - mae: 72.9534\n",
            "Epoch 254/300\n",
            "140/140 [==============================] - 1s 10ms/step - loss: 72.5764 - mae: 73.0242\n",
            "Epoch 255/300\n",
            "140/140 [==============================] - 1s 10ms/step - loss: 72.5589 - mae: 73.0058\n",
            "Epoch 256/300\n",
            "140/140 [==============================] - 1s 10ms/step - loss: 72.5214 - mae: 72.9678\n",
            "Epoch 257/300\n",
            "140/140 [==============================] - 1s 10ms/step - loss: 72.5337 - mae: 72.9800\n",
            "Epoch 258/300\n",
            "140/140 [==============================] - 1s 10ms/step - loss: 72.4753 - mae: 72.9220\n",
            "Epoch 259/300\n",
            "140/140 [==============================] - 1s 10ms/step - loss: 72.5171 - mae: 72.9637\n",
            "Epoch 260/300\n",
            "140/140 [==============================] - 1s 10ms/step - loss: 72.4427 - mae: 72.8894\n",
            "Epoch 261/300\n",
            "140/140 [==============================] - 1s 10ms/step - loss: 72.5132 - mae: 72.9597\n",
            "Epoch 262/300\n",
            "140/140 [==============================] - 1s 10ms/step - loss: 72.4999 - mae: 72.9468\n",
            "Epoch 263/300\n",
            "140/140 [==============================] - 1s 10ms/step - loss: 72.5155 - mae: 72.9619\n",
            "Epoch 264/300\n",
            "140/140 [==============================] - 1s 10ms/step - loss: 72.4860 - mae: 72.9329\n",
            "Epoch 265/300\n",
            "140/140 [==============================] - 1s 10ms/step - loss: 72.4495 - mae: 72.8951\n",
            "Epoch 266/300\n",
            "140/140 [==============================] - 1s 10ms/step - loss: 72.5064 - mae: 72.9520\n",
            "Epoch 267/300\n",
            "140/140 [==============================] - 1s 10ms/step - loss: 72.5312 - mae: 72.9766\n",
            "Epoch 268/300\n",
            "140/140 [==============================] - 1s 10ms/step - loss: 72.4186 - mae: 72.8634\n",
            "Epoch 269/300\n",
            "140/140 [==============================] - 1s 11ms/step - loss: 72.4778 - mae: 72.9228\n",
            "Epoch 270/300\n",
            "140/140 [==============================] - 1s 10ms/step - loss: 72.5299 - mae: 72.9750\n",
            "Epoch 271/300\n",
            "140/140 [==============================] - 1s 10ms/step - loss: 72.5146 - mae: 72.9611\n",
            "Epoch 272/300\n",
            "140/140 [==============================] - 1s 10ms/step - loss: 72.4651 - mae: 72.9102\n",
            "Epoch 273/300\n",
            "140/140 [==============================] - 1s 10ms/step - loss: 72.4396 - mae: 72.8837\n",
            "Epoch 274/300\n",
            "140/140 [==============================] - 1s 10ms/step - loss: 72.4369 - mae: 72.8809\n",
            "Epoch 275/300\n",
            "140/140 [==============================] - 1s 10ms/step - loss: 72.5025 - mae: 72.9469\n",
            "Epoch 276/300\n",
            "140/140 [==============================] - 1s 10ms/step - loss: 72.4969 - mae: 72.9414\n",
            "Epoch 277/300\n",
            "140/140 [==============================] - 1s 10ms/step - loss: 72.5268 - mae: 72.9717\n",
            "Epoch 278/300\n",
            "140/140 [==============================] - 1s 10ms/step - loss: 72.4833 - mae: 72.9272\n",
            "Epoch 279/300\n",
            "140/140 [==============================] - 1s 10ms/step - loss: 72.4667 - mae: 72.9118\n",
            "Epoch 280/300\n",
            "140/140 [==============================] - 1s 10ms/step - loss: 72.4114 - mae: 72.8557\n",
            "Epoch 281/300\n",
            "140/140 [==============================] - 1s 10ms/step - loss: 72.4830 - mae: 72.9269\n",
            "Epoch 282/300\n",
            "140/140 [==============================] - 1s 10ms/step - loss: 72.4782 - mae: 72.9219\n",
            "Epoch 283/300\n",
            "140/140 [==============================] - 1s 10ms/step - loss: 72.3164 - mae: 72.7595\n",
            "Epoch 284/300\n",
            "140/140 [==============================] - 1s 10ms/step - loss: 72.3424 - mae: 72.7860\n",
            "Epoch 285/300\n",
            "140/140 [==============================] - 1s 10ms/step - loss: 72.4235 - mae: 72.8671\n",
            "Epoch 286/300\n",
            "140/140 [==============================] - 1s 10ms/step - loss: 72.4387 - mae: 72.8838\n",
            "Epoch 287/300\n",
            "140/140 [==============================] - 1s 10ms/step - loss: 72.4786 - mae: 72.9222\n",
            "Epoch 288/300\n",
            "140/140 [==============================] - 1s 10ms/step - loss: 72.3633 - mae: 72.8071\n",
            "Epoch 289/300\n",
            "140/140 [==============================] - 1s 10ms/step - loss: 72.3685 - mae: 72.8128\n",
            "Epoch 290/300\n",
            "140/140 [==============================] - 1s 10ms/step - loss: 72.4398 - mae: 72.8836\n",
            "Epoch 291/300\n",
            "140/140 [==============================] - 1s 10ms/step - loss: 72.4713 - mae: 72.9145\n",
            "Epoch 292/300\n",
            "140/140 [==============================] - 1s 10ms/step - loss: 72.3942 - mae: 72.8376\n",
            "Epoch 293/300\n",
            "140/140 [==============================] - 1s 10ms/step - loss: 72.4894 - mae: 72.9325\n",
            "Epoch 294/300\n",
            "140/140 [==============================] - 1s 10ms/step - loss: 72.3707 - mae: 72.8138\n",
            "Epoch 295/300\n",
            "140/140 [==============================] - 1s 10ms/step - loss: 72.3416 - mae: 72.7845\n",
            "Epoch 296/300\n",
            "140/140 [==============================] - 1s 10ms/step - loss: 72.4299 - mae: 72.8737\n",
            "Epoch 297/300\n",
            "140/140 [==============================] - 1s 10ms/step - loss: 72.4009 - mae: 72.8443\n",
            "Epoch 298/300\n",
            "140/140 [==============================] - 1s 10ms/step - loss: 72.3068 - mae: 72.7495\n",
            "Epoch 299/300\n",
            "140/140 [==============================] - 1s 10ms/step - loss: 72.3838 - mae: 72.8269\n",
            "Epoch 300/300\n",
            "140/140 [==============================] - 1s 10ms/step - loss: 72.3984 - mae: 72.8410\n"
          ],
          "name": "stdout"
        }
      ]
    },
    {
      "cell_type": "code",
      "metadata": {
        "id": "RU_5s4uHkLvR"
      },
      "source": [
        "# Save weights\n",
        "model_path = os.path.join(ROOT_DIR, \"Irradiance_cnn_perday.h5\")\n",
        "model_cnn.save_weights(model_path)\n",
        "model_cnn.save('my_model_cnn_perday.h5')\n",
        "\n",
        "#load weights\n",
        "# model_cnn = tf.keras.models.load_model('my_model_cnn_perday.h5')\n",
        "# print(\"Loading weights from \", model_path)\n",
        "# model_cnn.load_weights(model_path, by_name=True)"
      ],
      "execution_count": null,
      "outputs": []
    },
    {
      "cell_type": "code",
      "metadata": {
        "id": "aJPyd8Yfkgro",
        "colab": {
          "base_uri": "https://localhost:8080/",
          "height": 385
        },
        "outputId": "51b9fd60-32b7-4578-9d9c-fe48d70fb98c"
      },
      "source": [
        "lstm_forecast = model_forecast(model_cnn, df_123[..., np.newaxis], window_size, batch_size)\n",
        "lstm_forecast = lstm_forecast[split_time - window_size:-1, -1, 0]\n",
        "\n",
        "lstm_residuals = lstm_forecast - x_test\n",
        "lstm_rmse = np.sqrt(np.sum(np.power(lstm_residuals,2)) / len(lstm_residuals))\n",
        "print('RMSE = %.2f' % lstm_rmse)\n",
        "\n",
        "plot_series(time_test, x_test, lstm_forecast)"
      ],
      "execution_count": 46,
      "outputs": [
        {
          "output_type": "stream",
          "text": [
            "RMSE = 136.00\n"
          ],
          "name": "stdout"
        },
        {
          "output_type": "display_data",
          "data": {
            "image/png": "[encoded data removed]",
            "text/plain": [
              "<Figure size 1080x360 with 1 Axes>"
            ]
          },
          "metadata": {
            "tags": [],
            "needs_background": "light"
          }
        }
      ]
    },
    {
      "cell_type": "code",
      "metadata": {
        "id": "BNQR_6nTTy8Z",
        "colab": {
          "base_uri": "https://localhost:8080/",
          "height": 312
        },
        "outputId": "f727ee1c-e17a-4063-825a-0f3f676b95da"
      },
      "source": [
        "plot_history(history_ann)"
      ],
      "execution_count": 45,
      "outputs": [
        {
          "output_type": "display_data",
          "data": {
            "image/png": "[encoded data removed]",
            "text/plain": [
              "<Figure size 432x288 with 1 Axes>"
            ]
          },
          "metadata": {
            "tags": [],
            "needs_background": "light"
          }
        },
        {
          "output_type": "display_data",
          "data": {
            "text/plain": [
              "<Figure size 432x288 with 0 Axes>"
            ]
          },
          "metadata": {
            "tags": []
          }
        }
      ]
    },
    {
      "cell_type": "code",
      "metadata": {
        "id": "eDKeujQ1BGZZ"
      },
      "source": [
        ""
      ],
      "execution_count": null,
      "outputs": []
    }
  ]
}